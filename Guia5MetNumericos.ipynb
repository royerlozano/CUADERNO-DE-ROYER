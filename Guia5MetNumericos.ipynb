{
  "nbformat": 4,
  "nbformat_minor": 0,
  "metadata": {
    "colab": {
      "name": "Untitled8.ipynb",
      "provenance": [],
      "authorship_tag": "ABX9TyPuVg01bsZr41g6I+DxMhpQ",
      "include_colab_link": true
    },
    "kernelspec": {
      "name": "python3",
      "display_name": "Python 3"
    }
  },
  "cells": [
    {
      "cell_type": "markdown",
      "metadata": {
        "id": "view-in-github",
        "colab_type": "text"
      },
      "source": [
        "<a href=\"https://colab.research.google.com/github/royerlozano/CUADERNO-DE-ROYER/blob/main/Guia5MetNumericos.ipynb\" target=\"_parent\"><img src=\"https://colab.research.google.com/assets/colab-badge.svg\" alt=\"Open In Colab\"/></a>"
      ]
    },
    {
      "cell_type": "markdown",
      "metadata": {
        "id": "2AbW7nKGatbk"
      },
      "source": [
        "***ALGORITMO DE GAUSS JORDAN***\r\n",
        "#METODOS NUMERICOS"
      ]
    },
    {
      "cell_type": "code",
      "metadata": {
        "colab": {
          "base_uri": "https://localhost:8080/"
        },
        "id": "0wML5iC7apvZ",
        "outputId": "b3a789fb-f399-4d23-f7a3-21fdcd685670"
      },
      "source": [
        "import numpy as np\r\n",
        "#tamaño de nuestra matriz\r\n",
        "n = int(input(\"ingrese el valor de n: \"))\r\n",
        "Matriz = array = np.arange(n*(n+1)*1.0).reshape(n,n+1)\r\n",
        "Rspta = array = np.arange(n).reshape(n,1)\r\n",
        "#leemos los datos de nuestra matriz\r\n",
        "for i in range(0,n):\r\n",
        "  for j in range(0,n+1):\r\n",
        "    Matriz[i,j] = float (input(\"ingrese la matriz[\"+str(i)+\",\"+str(j)+\"]: \"))\r\n",
        "print(Matriz)\r\n",
        "#solucion del sistema de ecuaciones\r\n",
        "for i in range(0,n):\r\n",
        "  if (Matriz[i,i]== 0):\r\n",
        "    print(\"Error matemático\",i)\r\n",
        "    break\r\n",
        "  for j in range(0,n):\r\n",
        "    if (i!=j):\r\n",
        "      ratio = Matriz[j,i] / Matriz[i,i]\r\n",
        "      for k in range(0,n+1):\r\n",
        "        Matriz[j,k]=Matriz[j,k] - ratio*Matriz[i,k]\r\n",
        "#soluciones\r\n",
        "print('nuestra Rspta es: ')\r\n",
        "for i in range(0,n):\r\n",
        "  Rspta[i]= Matriz[i,n] / Matriz[i,i]\r\n",
        "  print(Matriz[i,n] / Matriz[i,i])\r\n"
      ],
      "execution_count": 6,
      "outputs": [
        {
          "output_type": "stream",
          "text": [
            "ingrese el valor de n: 3\n",
            "ingrese la matriz[0,0]: 2\n",
            "ingrese la matriz[0,1]: 1\n",
            "ingrese la matriz[0,2]: -1\n",
            "ingrese la matriz[0,3]: 1\n",
            "ingrese la matriz[1,0]: 5\n",
            "ingrese la matriz[1,1]: 2\n",
            "ingrese la matriz[1,2]: 2\n",
            "ingrese la matriz[1,3]: -4\n",
            "ingrese la matriz[2,0]: 3\n",
            "ingrese la matriz[2,1]: 1\n",
            "ingrese la matriz[2,2]: 1\n",
            "ingrese la matriz[2,3]: 5\n",
            "[[ 2.  1. -1.  1.]\n",
            " [ 5.  2.  2. -4.]\n",
            " [ 3.  1.  1.  5.]]\n",
            "nuestra Rspta es: \n",
            "14.0\n",
            "-32.0\n",
            "-5.0\n"
          ],
          "name": "stdout"
        }
      ]
    }
  ]
}