{
  "nbformat": 4,
  "nbformat_minor": 0,
  "metadata": {
    "colab": {
      "name": "Guía9MetodosNuméricos.ipynb",
      "provenance": [],
      "include_colab_link": true
    },
    "kernelspec": {
      "name": "python3",
      "display_name": "Python 3"
    }
  },
  "cells": [
    {
      "cell_type": "markdown",
      "metadata": {
        "id": "view-in-github",
        "colab_type": "text"
      },
      "source": [
        "<a href=\"https://colab.research.google.com/github/royerlozano/CUADERNO-DE-ROYER/blob/main/Gu%C3%ADa9MetodosNum%C3%A9ricos.ipynb\" target=\"_parent\"><img src=\"https://colab.research.google.com/assets/colab-badge.svg\" alt=\"Open In Colab\"/></a>"
      ]
    },
    {
      "cell_type": "markdown",
      "metadata": {
        "id": "Y8A6a_dKXRQ6"
      },
      "source": [
        "# UNIVERSIDAD NACIONAL DE SAN ANTONIO DEL CUSCO\r\n",
        "\r\n",
        "Departamento Académico de Informática\r\n",
        "\r\n",
        "MÉTODOS NUMÉRICOS\r\n",
        "\r\n",
        "Guía N.o 09: Integración numérica - Método del trapecio\r\n",
        "\r\n",
        "Nombre: Anthony Aldair Cconislla Medina\r\n",
        "\r\n",
        "Codigo: 161756"
      ]
    },
    {
      "cell_type": "markdown",
      "metadata": {
        "id": "rLd4Iw_1XVcE"
      },
      "source": [
        "DESARROLLO DE LA PRÁCTICA\r\n",
        "\r\n",
        "a. Implementar el algoritmo para la regla del trapecio para un solo segmento de acuerdo al\r\n",
        "pseudocódigo."
      ]
    },
    {
      "cell_type": "code",
      "metadata": {
        "id": "xezsl28pB0ZM"
      },
      "source": [
        "def Trap(a,b,real):\r\n",
        "  fa = funcion(a)\r\n",
        "  fb = funcion(b)\r\n",
        "  A = (b-a) * ( fa + fb ) / 2\r\n",
        "  print(\"El Area es:\",A,\"unidad cuadrada\")\r\n",
        "  error = ErrorRelativoPorcentual(A,real)\r\n",
        "  print(\"con un error relativo porcentual de:\", error ,\"%\")"
      ],
      "execution_count": null,
      "outputs": []
    },
    {
      "cell_type": "markdown",
      "metadata": {
        "id": "FtrcMLtrXrgI"
      },
      "source": [
        "b. Implementar el algoritmo para la regla del trapecio para segmentos múltiples de acuerdo al\r\n",
        "pseudocódigo."
      ]
    },
    {
      "cell_type": "code",
      "metadata": {
        "id": "xCpEoa6DPPel"
      },
      "source": [
        "def TrapN(a,b,n,real):\r\n",
        "  sum = 0\r\n",
        "  h = b-a\r\n",
        "  for i in range(0,n):\r\n",
        "    fai = funcion(a + (h/n) * i) \r\n",
        "    fbi = funcion(a + (h/n) * (i+1) )\r\n",
        "    Ai = (h/n) * (fai + fbi) / 2\r\n",
        "    sum += Ai\r\n",
        "  print(\"El Area es:\",sum,\"unidad cuadrada\")\r\n",
        "  error = ErrorRelativoPorcentual(sum,real)\r\n",
        "  print(\"con un error relativo porcentual de:\", error ,\"%\")"
      ],
      "execution_count": null,
      "outputs": []
    },
    {
      "cell_type": "code",
      "metadata": {
        "id": "IE0sSnCmZrYd"
      },
      "source": [
        "def ErrorRelativoPorcentual(a,b):\r\n",
        "  return (abs(a-b)/a)*100"
      ],
      "execution_count": null,
      "outputs": []
    },
    {
      "cell_type": "markdown",
      "metadata": {
        "id": "VEAfEuc4XpMp"
      },
      "source": [
        "EJERCICIOS PROPUESTOS\r\n",
        "\r\n",
        "Resolver los siguientes ejercicios utilizando los algoritmos implementados y determinar el error\r\n",
        "relativo porcentual para cada caso."
      ]
    },
    {
      "cell_type": "markdown",
      "metadata": {
        "id": "0I90SaYmX1W7"
      },
      "source": [
        "a. Ejercicio 1: con límites a = 0 y b = 0.8\r\n",
        "\r\n",
        "![image.png](data:image/png;base64,iVBORw0KGgoAAAANSUhEUgAAAYgAAAAnCAYAAAAVft+pAAAgAElEQVR4Ae3chbOuNxHAYf4TBi0OxbW4u7tbgeLu7u5uxd2KtsXd3d3d3V7myfD7Jj1z5dzeUu49fTOTm7zJZrOW3U2+055sWcsqgVUCqwRWCawS2IUETraLsXVolcAqgVUCqwRWCSxrgFiNYEdJ4N///vfyr3/9a/nHP/6x6Kt///vfR91RjO6GmfjXksHf/va35Z///OeATi67WbqjhvGOX5UsyKC+751c0v3Mpz7+ySF72I4M1gCxHSmtMAeFBByC6uwcGjsomNhPInME8azNKeQg93OLA3654FBAiOfsofEDnon9IHDWfcnRPKa/3bIGiO1KaoU74CXQIUCoPqfggDT+xz/+8YDnYX8JxCsn6OYw36JykOZ3eqHzrYEhG6jdyTLAY/zXZxMFTmPbLWuA2K6kVrgDXgIMP+eI2L6NdVAOeCZOAALjFd8cRbIwru70MvMpUM7Ocqfznq7Te9/JpHa7clgDxHYltcId8BLI+Gsdkjlrmg/NAc/M8SSwTDEZFDALFicFGRDdX//6102ygGe3CjJILsdTvAfFMjzG81/+8pchC2OK1pnYblkDxHYltcIdNBJwCDiDP/3pTxuHYEw2udMLvrc6Q84C/1rzJ4VSgIj3EoWen3ayDOi6iv9ZBuSwBoidrP2Vt91KwEGQMTkcHKGqLzD84Q9/GAdlt4t3yMTsGOpziuTCMRg7KZScIl5/+9vfDv6NkYF2J5f0Hr/pvfF9sYH1BrGTLeUkxhvDLyhoHRDO4Z3vfOfyxje+cfn5z3++4yWSDPAuMPzsZz9bPvaxjy3ve9/7lu9///s7nn8M5gjxzzl+6UtfGronk+xiJwsC/5Kir3zlK8u73vWu5b3vfe9G9+bcrrZbNgGigzULWNbRuPbd73738uY3v3l55CMfuXz1q18dwv/yl788+m1KIWpXOUrJaL/97W8v3/zmN5df/epXA8ZeGElpwfVtPqU25nses5c5VR8+VTH2gx/8YND8whe+cHnRi160vPWtb11+//vf7zKLsH+4HazXvva1y73uda/lvve97/KCF7xgQX80xq99Ghub/vc7GuDz1BEcWHVXBay5D3zgA8sDHvCA5Ygjjlge+9jHLj/60Y8Gb63Fl/4nP/nJ5ZnPfObynOc8Z3n605++PPWpTx0G8bvf/W5DU7Dhbl/0kVc4tdsp8KjwahV9uPD5/ve/f3nYwx425PaUpzxl+exnPztg4J/1Y/z5z3/+8rKXvWw58sgjhxOb9weLb879ec973vKSl7xkedWrXrX85Cc/GTSbV+BFh+/oMlbWbM1LX/rS5dGPfvRy29vedvnzn/98HJ5nvskEjnkMb85BvEZjPAfbk4ZxY+h8wxvesLC717zmNctPf/rTQeOnP/3pMfbkJz956O4Zz3jGUt/ZwnM4rXnb29620S1ds8MvfOELG97BBo/GnKIx6zkHNv+kJz1poY/sMj6OTwt3fNpP/4c//OE4X6985SsHf29/+9sHajS5vSn64OiTXLQCl78uQ9eM95hjjlnIxhl89rOfPfxGOrYn2L7Tmz2iK1zwPP7xjx8+yv6tAedb21i8DGL/iwtuMBWwrTVnjTrDccwvf/nLl49//OMbeuyFz0984hODdzbJNp1hc9HC1vjHo446avANjkwlN/GkBd83m1baw/hvfvOb5TGPecywLTbj23h2Gj97azcBAoOYVztEBAEpAXz0ox8dzuqLX/zicuMb33gcakbA+H784x9vDlFChidiEuovf/nL5dhjjx0OUGanmEtAMa2Fx/oEbww9qrnWafsmXE4qXr773e8OIXOen/nMZ5YPfehDy9Oe9rRhmIwWLmusV+ObETuMd7nLXZY73vGOy6Uvfenl4he/+PLgBz94GDha7KsqZBR9xnzD3dwMZ06t9G29yrDsK0Bc6UpXWi5ykYssV73qVZevfe1rYz/w4NB6n/vcZ8xd4QpXWK5ylass173udZf3vOc9Y86es/yjb5ahPnzJL5p214IHC1d01Aq6r3/965e73vWuy53udKfl6le/+qD91re+9XBSdGKdQyLRIMs3velNy9e//vVxGB70oActH/7whwd+OmQrnMP973//5XOf+9zQn4DyqEc9auBAS7pDg2/4Vbz7dtAEGEmCLPqyl73ssFVz1rSOnOo3jt76wePdmD30jatgk4uWDuhP8BMIv/GNb4ykBKzkip6ud73rjXqDG9xgnKeLXexiI7DK8qNf9nfTm9502MHVrna10UoYvve97w0a7DvTGe/4Udk4W3Y+X/3qV4/zi779KfhHn9r+dHiHO9xhOHsJ4Kc+9amR3Ajq4JOPM3+LW9xi+A72zIHe+c53HnaDrs7u0UcfvdzudrcbzvRb3/rWcKSSJX0yxGd6iGf0wGFe37ibA+f6kIc8ZGTTxs2rYMGo9bXh0AYPpjXh9o2vcMSjAP+EJzxhoVe3VnBopQ/Bmp0L+hJr50UyJWiER2JKbuyHr2X7z3rWs8Y69gwODfBpq3RqH3TzDQLM4x73uLEnnYBDI3r2pWwCRAxrIbOZA2gzFcOve93rhhIp1uEWmT//+c9vHBGiE5r1CQdTCVxm9dznPnccWJluhLcnWGu11ldbH33m7WXPYLRoNs4Rib43v/nNl3e84x1jfwbIYG54wxsOx5GQ4dZXHSr8ybY4FfwRNsM+17nONYyVgO0PHq1VY/ETDHzmZ/rjAax+6yny4Q9/+HCgDpCgzLhPf/rTj3HywoN90CZDEKQZnkMle2dEZAA3+sCqZWn69otObRUteyrhqsVTOiAzhs35M+oPfvCDy0Mf+tDlvOc973K/+91vPPVY52AIIve+972XX/ziF0MuHKhb2j3vec+R9eLRes5RphkvblaCpRtHNM/8JMfG8P/rX/968Ku91KUutZCheeu19a3Ff/rSJ0fjim/V99Y16DWnFRRuectbDhvn0NBATuZllhIPjkGyIiB+5CMfGfYpaAiAnKg1Mj68cw70S7cCDxx0iYaZprmPt+xN68w5u/b1vT8l/ttfIH/gAx84gl2yQ59ETHLDLqwhSzeGS1ziEiNgN4a/y1/+8sP5g2G/ZMG3pCvZ83Wuc52xj3kFj3jOxvXxhi4VLc6PG4rbI2cbjBYMGhTrGqs/2xeY+LUGbPC+29NZoM+b3OQmi6TNDbJ1gqhkx1nAg/VeYQQCdo9H/EsK8M93gTHGVq55zWuOIN/5b3/47ds4evDOz/ElN7vZzUZSHt3w7UvZBAgbdWhsBqFvCGX9MhwGD05G4pC7ElMiYoPXRzBBW6+vNY5w+Nw6OD6OJAGaB6fCpWjVmbYZHi77zHDtS/ieFGQertrRxPFQIGUl1PCjAW+cLUcW/QIkmjm7e9zjHmO/eGpvrb2jzzzHR1Hm4Da3qxoOmYUDhS9wxt2CHDQ3BA4VH+bdHjwtyTjRZ9we7ZUc0AFX38kBLDwdsOjam/HMuOCGVyVX13n4jNvHAZUpC9Lf+c53xhibwYskAQ05Q47VTY3sZfyM+8pXvvImW4aTLG5zm9sMZxHd8ZctoC/5xZPg4Ab5xCc+cdBKRuaSe3Izhm7jMm9Zt8Nsj2Dwmoxb3zxH7tbn0Dsr0dZegr7qHBgzD59A4dZIfuESDDhJZ4/zoGNr0DHjTZ/mqmCqbnaSCfJ0+3AW9qfguX20nl0vcIELDHtMLuhzfiQ2bopoFPAueclLjttltGnJ+RSnOMWwZTxKxs585jMPmpMTvDJt9sFnkFlygmOmR3AyJ6CSNb0/4hGP2AQI8ObDYW3f+mxMUEl/8QR+XmucDbI1fdVtkc1IjNi4AGEcfgm1MUmUb5Vu2L3XCXomS/ISDNABxp5oOfzww5db3epW42Ydv/wXGHSgz7gxfbdMNxMBmL8jZ7SY35eyCRAxqUV4LYd5+9vffrn2ta89Ih4nJRO5xjWuMRwgBhBEmfpa0RJBEQ4H5hkJWAbvQLz4xS8eDCcIrWrv8GqjjQF1+INtLeHA3QH3tHC5y11uBCLjwQkcno2uf/3rD6eVo2kP9HO6jdtP9e4rK5D5oinDsK9ivX20xqx34MkpHqK5Na2zxhwZcUjmjaHFPm5vMiiH25wsUsD2jONmwyFxAgU8a8kKDbJHh0Rmag8HSOBylQVjrHY7hoMXa9BRtR980WdfekAnPTNucmc7fifx1POWt7xlrIdLdfO40IUuNG5FnijcFPAGj33sC7/EwoGC2z54Zmsckm+0GPO8IDAYI1M2S772AqNNL/AbS3/kgAYBiu1mU+DaI1szprAZvMqQ8YJW68g7WOcqG7Z/fMm28YUHNNE5R4FP2aQnO44lp4FW1Xq8Cr6cIX6NkbPbqG/7e/Zwg7CHQL4/Bf5kiC8JzVnOcpbhhPGbXNF6wQtecNg/mbHP053udONmDkcVjvOf//zDeeLF2TzjGc845B4uvHqvtw9HS4bG8CVg4JfcFHYm4HoB4KzZmyya/NgonOHVogOuxmTrbkR02Bzc6NSq0Y7feKZ/wc0tl1+bAwS/5zcgAa7XjHDyU+zeLcfvU865hIrMsjVn2NOUQOws2x89goA1aKdn8uOn6B1PYNDlRlvAA6tut2wCBIIxW2sDShUFz33uc48g4ZBRiCzu7ne/+8j0EGtDRu26aQ1mvH8hTlQlHNlQb6cIl9HI7jEc0SkBTkp3YOznmUfrBx3wVcKRbYJHL9rh8u0tn+HZ17gxLWfi9kBZjAB867SUEj8ZDt4YnScK7+JwobU9tapxlRzhofyznvWsA3+w815gK8ZVe4FV9OHidLy9p3iHX1bk/VagsAdH4noKBh70gUOvmxRe6UcGL8jJUBlVvICf6YmurS3c4Kq+0aga801+8NHZ3e52tyFvhxM97EagJc/WWudgcojens3RHfsIl5aj98Pl+c53vuEwOFzOkfPAo8MJhmPwxwWySDdcTkzSgiaHDS57q8kan747lOz2TGc603AqjcWfNdFlzLeAd9hhhy2XucxlRtbmh2c0eI8WkOGAv3X6Cvro0fMLRwIfWPg8u9HrOc95znGLdGY4QDB4AS9Q+hHXjRL/zhxn6LYgE4bLnmh4xSteMW51W3W6L9/2hk9BA72d9rSnHTq2l3mV82ab9Gjcc9mpT33qTWLA9tgMXJIotw1jzpjAwo7DBc5tlD48q8Y3/fqNq5se50tmZOn8u5HrS1DYCNtAM7zkr482fTpUnRMJsafbYLRztR5s9Em+JIN0Zg9yxpNXB/wJ3l4e/I6ED2NVt05273bA7vHOocMNRjvbvd81yEkCJOizezjIi94li+wAfeTmjAh4Eh28GsfLdssmQCAk4UGiONDewijGL+EcMmYvfOELD8N3E4gRzHDqDNHB4NQIGbEYoTxGk2A8MbhyelKAAzPtLxJyYLIoAlAFJT+EcRoyS0rkfFICejEefofGwXLFMg63PQiKkVGK4GfOuDa4mR5CZQCugjIRmdFsHGDnb300wMlhn+Mc5ziOYoJtP+tnHOYFBvSCIXM3IcERTrAMhCMQQAVtDp+ObnSjGw2HYV28MrorXvGKIyAzYIfGsxdHY4/oRbP+nkq0Rnu8JFvjYOAiN/qX/dKRb07XQbjWta41gnwB0Dp0CtpudgLr2c9+9qFffKRTxs4eDz300GGPMkkJgsPJJj1DOICCILmQmexcZu/tn7Pm0NzM0K4mq3jHCx7cIM52trMNm01O85r64RDAZbhsn5xVTtpNiPMWyJKPNdmI4EVGeLZPMJyg80cuzgo8nAeH120QH86U3y7cJu3nhsCJ0LNnC3jxbB+OxJndnxLfZER//AG62KjznzzsQ4cCBDoliac5zWnGmcC7tenV64QA4WxKdtgB/uEik2znPOc5z0gwJHnkST745hvYGh/jL8Y8rTinEiLJpD8MIEd47AmnlqyTeXbgzPIt9JftpRM819eGi52xN/TAx0bdINghOFm9QObpyG8h8KroYa/49UqAB7btPNsL/1r6FvDwT/9kJ9lm9wKqoCgZcM74NPT4i0165z+s5VPjdV/0vwkQFkGQAdT3gyCliVgEIpuneO/fPYEkbAxbRzCMRpbLEUUcxsAQGoF6Wxf9M5YU4psgBRbGXxWkCMiBIQBOuxsInNYTqArOj8oyTt/mVQdKgCBYxoR2FUzG7Vtfi17ZpyjMADnn4PCq+LZ3734yG9Xe3lMpSqCkRHJkuGixrn21cBhLjvBTviurfX2Daw04snV95Jjc9FzBZaXJghNl8IwTnq7Z4cEjvODRtKeSDK3Rh0O/b2NwoUsAoycywC+YAoRrNL21JzwOCp34zYJzY3OyLvjCX4AQ+NlE9sSxOGAyNGvxT44OFh07IOwY/xyaddFa62bhB0a60rKvM5zhDMNRcDiNw0mmaLZW1Ze4eBrhkOnKGCfnxuTGw+G0Dm14wpsExo2bvYdTO+sE3w4//mTDHE6w8HAIxj1NSKw4arJl6zJizlHiJpiid3+LveFX8ei1gPNyw2HnZMUOOX12Rx7OHPnQT3IjB332cMghhwx6JTqeIMk5mwcjwLFvNtGrARlJIru10SGajKMRftm3tWwkP0NmyY+dkh+ayYm9urVJJnyr7MF6aypospdnS7yyX9/G+SXPkwI1GtzyBDGycKsGV/XiIkBI7uiYv3ALiH74yMINSPBAn2Kev3Hb8LsXn8u+4GUv/Kpkgf8lLzyjxdncl7IJEBlsiCgHQo4HAwStMECEus641sxGD55yRFJrPOUw0pRhHn5EitQcgqsnhsDARYkJB7xKSMbgjj591Vww5lRjrnne7DwxzfhkH95iZTyzsbaH9e2DX5mQjFslEw45PsAqvs3B57mAs9Bydqc61alGBiuLNV7QtJ/14fJNLn1r3a7Qz6nnDPHSOsaQDAQeTxwMqJsdWHi9x7qtyTjQaUxtXh9Oh4Eh7q5ytGiiU/DRoq+Gh9OwF4fMFhoXaL0xy64cSutVxSHsqs2pCQL+EMJaPIJzUAR+DtchzNjZJp3St4yJ7KJNXyWr6PCN3lnesmvOh57ozoH1dMLxcvJ058ZawgP/jE8QdoMoYbGH4omPXuhx1ot5du/24HbTnHF44dfvG6wbgkBIPubxhAf2gX9zHM6sD3ZD59lJOLUVZ4J9OzN0PLf6MmJOEO9os9YeipaT9KfkfAX9gO1JSfBAgxu9syBLjqfkzyGbw4ebIFslD3TjUxV4JHwCggBozN6SSMmoVmJgLN7ap29z1ilavJAlnHRO//7CkX0JWr7pR8s+Wm8tnOiTsXtOlBCyPQm04MK/uL265Usw2LKbM/3Ylz7gYPcXvehFx+uEBFIQtKc5FSw/Kzk2J9FRzJGDwOuWJmkIXgs/eQS7VW9jYhv/HCdAJHQbUKrqautQI9I4J+IgINTBtIahahGlEopnDX/SJUIjLqEG7wcdDkGg4XQJ3345PUYr8peRiPBlcWjo21USTtU+8MDBSBmaZwfjVcbMkL0RymhbtxUH4yVgAdHhwX8HUqtaY7/kxUAcEIdDi39OpptPrR8wrWFgWjJDH5x9l8W6SpMLesCUJdi7vnEwZO4gpitjcLve+yHMYSDrxuGwX7JxeBn77io8MpOtzyXwhIMTpzcHltEaJyMtvgVIdMpuWqdFm4NOZg6UA+Y5KtmAkSFykpyI9XAad0NBs78ya0/jKhg86pOXfjynQ3tYJ6DREf1xGqc85SkHXrcJ+jTHnq2Dd66eMdys8U6+5vDNTmW47HDOfM3jUwAid/qFFy3WRb/WmIougYgzCr9xjtUthFNzXuI725y/Wxd+shC4OXL6VQUzlUwlF+bwPwe/cFpvH0mB25mnOa01AiOHiTfPXSc/+cnHzSy66AMe+pRQsluBWQJK1+bg18qQBQgysBc+jLvVc5zs0nkle+N7K+QGB/okRHQMtxs7+5QM+DZO73xFe8KPBzSSl6dnybA/V+VbBDy0as3zIdk93Vmv4k3gwT+7Jzu/z3lCbw8wBQJw/EI8Ok+CkICGD7DJa2/8b3d+EyAsyEBtQgAIcOhkODIYY54zKJDxUIg1KZrD44A4B1cff8fu4FlHuFXMU4obhKs3ZQVjbzhEU4eOogheFcm1xrzrEmq/YcANR4KVobpyg82gwFC0654o3VOPcXwkXHis4YQEsjJmMGgTvNrLWH3ro4Ms0EZWxqxDG7wKWIrWtg4uMAKNACyYkU0GwcHQwyzvZMcxe4LgbMAbt6esT9DgfGXd9jcfzeDsiUZzdL6nKilw4BU4rKsPL317PnSVjjbjbIW8ZaRuEGzEWtW8NX63ksGyMXrzvmy/5EMeMnx8otE4WjzPsFEHhV3ZF17zs37sYxy/4awfrLVwsh9PTHRvTjHeeu0sO88Jnlk4Mjqyr+pACxCeZGXFZGbcenrhkMgqfOnFfsYatzcePXVKwMChiy2g1bOEAEG+5lT0qcHitbH68LMTtoU+leMjX306E4D0PSmj3drWww2HFo3okcBJzmTSxsxJKjhyZxYN8cbm/JmrGxBYNxHPTXRqr/Tkr5E4XUHVHtY7h+yIH/G8hU68mNtbie504RtdEhW259yzF3yiKzi40QSebJxxevScinY3eL+ZskXBHH2e95w9diCQWZ/uPIGSlXF273dWNw24k5MkGE3s3jnHI5o8XdlP8ufcxBOaT6hynACRIBKAbMQhcS0iIARQjoPLWVMIIRpHOKcIltBEXZHYASEgxoVhxBOyeVdixmTMnsZVOB0Ch663Y62I3u8Rvgl9PlzWJhyOhfD8VYz3QePwwunvgvv9AV2MUSTXB0c5MhNZEF44WY5PlJYNwGcvfIMnN/TrGyOr9mLUzadwa8G3Jt61+OEEPFehy74yMsHKGyXjkKXK+uwBp+rt21OIg0gPnJRsNzyuzrJM+Dg9MOiNJnTPdEXf3IIHY03w+sbRJQPiCN240K4KyOxI5sQZyELpBI/WwI8eGasbA744I/pxUPDVvp7ROEGOhx2qHBsYdtazALmARWt2G2/orsYb/PMYutgxh0aG4BQ4wuM7p2He4XYrJWOOy5wqAXKw2RG6wuG8eNaQaOHfuAKX926yIwd0oc+YbJ7dF+Tx72yxSU9Z5OfPJeELJ9sD175wVdO9fZNBMomWeR14+MCC6xuMMUmAYCXosUUyaT0aJHWSAzcFsoCDfXoaZCPOH/3Lov024xsMvLJ0z3xky7bJwDM1PXGeklE+QxJBf3sq0Ruv8ULWbjr2kWhFu3n80SeefTdnvL4WDn7J7w14swYMuxc4BEL0gWVbnojQ7ozj09nxNC1QWUfezrs/3ijg4l0Ax79Emt2TN3kJGtadUGUTICDFOAa1qqjtmigQzIKhPASLbMYx5irGgYmYDBuhIqZbgOceYwkL0zIJwvJGHUNwqdGinWuKQBs4RgbnrDjw4Owh23C1F9k5eUoiZP8hC+WA42A8W3BaDJrwKdb10MF203CQRXbPAZ7bBAr725e87DXLLtoEGX/FhE5j4MDPMkaDtQrjdsgdkP5ii1HZHz0cIcfSdVawc0AEFTpxOB1EzxoyEtk043Ig8ciQBGZygIes0JK89Gd5b+2DA4Mf1bdqT4FAdu+/inXAyIns9N3YPCXiU2ByWwDLKeCZE3UzZDtkCp8f4NgOZ0N37ESCQBYOE77ZHBngH4906w8f/P7Rm3F6IX91/tZX8TnP44ksPaVmJ2DiF6x+eqQ7dHur99cq+EAjOyF3zwD4tMZ+YOnALdsb9mw/cDpHniqcPw4Af3QPVkAgewGXIyI7QZ+8nCmJgGBhDbxoBW9PNZ3aR/WtoA2s78bRGp/GZ3mFG6y+xIRzpQNOrx91wwdG0PO/6eEEOXoykGVL5NDm7IEXBNk928UXHgUI5xkOdkDvnCi9SyY8UTkD9M6291TSn73mildOly+wJ96UrXIwZi486bUxepEsuIXgy3rOm/7olZz4GrdN33hR0MKnepbit9h9/PoNQ9JDBp77+BaJgUSYvP2wb8zZj+6BdD//2QQISDGSEek7jA6yAJDxaClNgKBAc97I/GmWdzZzjIFAZOAOPrgyVvQ6PAyDAGUDCXhWlv19m9OiT1/RotOYvdRgjQXL0cgs3Toow8HhNAUvURwvAoQrIiFTDsN2wBkJI/UeyMlx2GimPHhTvL2SWTShHU0OqasvGIdUG19aNd61blM9fwkU9uVwjMmSHCrG778IRheZezfHG2NClz0EZBkFPujGGB3I4PAqu0SfcW26neW/qz7+wKJbq8LBBmTI8CcrrSDBhsiWLOJdwuEAOugcH4cgaOTI4MQLZ+gwmBO0PbFw3GyG7QjYnANawZsjK9d9uBR7pitj2VBz5lXj6QI+B1hwcps0Hg6wyay1yYqD88SDZvzhjTMUZNBMXnChQ4CjC4feeriyH05OEoAX9saxkK+zBZbtkpkA3M3EWs6NI/HcwHGSif3si+boNEbGzdm7ObBwmUtG+lWw+nDrg2dP9MNB0xV7AGPePvCBIwO3TLcmt3A8uDn2nALGOnBuovjAkwBClvimYzyyhXRDvmxPQuEM42VvxT7g4sE3WgVbDt4+6DafbLTg0Ak2/vQVc6rEx7nvd7bg+BbBn33gC3/shSzjnW1IJsjS+XWWnXFyY19sgd6NW4NGspRssCdj2+F/b/JpfhMgMIaRGEWoHwpFt4wBTEJi+BTnsBsXySgwwYHrIAkOCQCMzI/T5vCsrc6MocW4dXCGy3hj+hkfWHBwtNa3eQbHiBmSwAXWOJz6+ON4fce/eQU++4WTXHxrrVXxFKzxYO1r3jdawhP95irG7KkGr0VTNIDX15I754J2Y/Cr1qCHPuBU4LTGGHj9qrVVa/dU48Ha6Egv83dy1bZ3+/lGFzpckzm9Dnr4zce3lt76ayj7GMOj4Jce0G1dWSiYeLG3vrXJN3pmmGgFB6+q357wqzM+fXSHzzze2DZbg9O3cXuBhY8u6DA6jYcHHN5k5W7eYJqPXrjZF1zm7DHG6pcAAASrSURBVEMm2bFxsNpom78bR1f98ARnXG1PeIJtztmW8M1JV3PJynf74AWtEhr6t2c44xGMvThUgZoejMGhZS/GfIeXLOHtu3O1uxas/fBmjf30k4FvfW3VN1j6REdyMh8P+o2DV5NH+NEvCGgbg1PfenvQZQmrORUufJMbOLJXwPvdyHy07I7vfR3fBAjEMTiZjY05H+9oDnBM1yKIgDh512jwhICplAQfON/mfDNqTxGu4hTfOLwJEgNgqzEMNjh7p+BoAj/D6IMBq6ItAWrR1prW9W2OLHzDYW0w1sKXDOyPL9/60QNehcNYzkbfeHRtVRhcYMJXNuY7nsPtu7594GxMGy3WJl/9vhub94Nnd9VeYK1Twx8NvhuDI/jo1pIlGHPhmWHnscbRCz7a4w1szwlgzUeDNhqDj7YZVzRqw6G1tjF9ODqoxtX2ax/y1++bztszuuIFvvrmwAZvvblgzLdnePrWtl/ysk7tG4yihTd4uGYY3zNN0WFcCdZ3OMA33ljryAusffmI8LfGOmPRin9rjZOlVjEPh7F4MAc+XNE9Fuzln3DYSx8uLVqqvu0b3sbBVsGo8QvGnLa1M26wrcVLAb514Qlne/oOZzjAzuuMR6v+CVWOEyBEdT8sew7wVt2PLBGijUAMEoIrk2iI4Io5sEprtLIi74YiY8puHt4YM1ZNEL6taZ/mE3jfcBBU3+BnvGg2pxjXn+fD3zxcKR2s9eC1xhXjDsC8NrpmWLhUJZzjY8s/1pif95iDlLlgLIXTt9KhNIYuNVq0SjIAM8tnTO7hH7iCn3E3Pu/TfOii2fpZ92jZWsBaP69pzFr9WdbzenP42grTem2yah1cyTC5JiPwsx7mNcbBtxbN9cHFQ60x8O3RvubnwvG1/zynb62ib/08Fm5jajzrz8W4tTP96FbgCD5Zzd/GlHDXn3nSZ4fNzevpr/HWpFPjM03tlb2Mhf+lsbnga4PZU4see1f08R+dybUWnLlqdJsPRrsVzlj7aNtXfx4PLhrwVrWmPYwFi18FnnwDmQczJk+AfzYBAiGyMT/geqv3tCR7taE5LWIi0LfCmF3rje+pYIiitQSxFc+e1q5zqwRWCawSWCVw4ktgEyA4ek7fj1s5/wKDCFWAaCwYLYdfRNwdC+ar1rR+d/Dr+CqBVQKrBFYJ/H8lsAkQyOC0c+LaflsoKAQT3Anh6MOhXcsqgVUCqwRWCRw4EtgECA7as49nILX3rG4HswPXF0AEDq3veX5X7AWzp3ZX69axVQKrBFYJrBL4/0hgEyAEh9l59xtBz0vNRWYBYg4Sze2qbf3Wdlew69gqgVUCqwRWCfz/JbAJEEjh9FXBoR+SCxTdFI4vyXNgOL441nWrBFYJrBJYJXDiSWATIDhwwcDzUkEhp76r3yCaQ+rc3y7prZnb7a5d4VYJrBJYJbBK4H8vgU2A6IYgQHDagsKufn/olhE8EnPy+0Jua+Z2X9avsKsEVgmsElgl8L+VwCZA/G+3WbGvElglsEpglcDBJoE1QBxsGlvpXSWwSmCVwIkkgTVAnEiCXrdZJbBKYJXAwSaBNUAcbBpb6V0lsEpglcCJJIH/ADPoXmRkzBX2AAAAAElFTkSuQmCC)"
      ]
    },
    {
      "cell_type": "code",
      "metadata": {
        "id": "j9AStLUQXp4i"
      },
      "source": [
        "def funcion(x):\r\n",
        "  return 0.2 + 25*x - 200*x**2 + 675*x**3 - 900*x**4 + 400*x**5"
      ],
      "execution_count": null,
      "outputs": []
    },
    {
      "cell_type": "code",
      "metadata": {
        "colab": {
          "base_uri": "https://localhost:8080/"
        },
        "id": "lPDRmWh1OupO",
        "outputId": "10939a76-a67f-462b-f13d-d7c04f8ee20d"
      },
      "source": [
        "import sympy as sp\r\n",
        "x = sp.Symbol('x')\r\n",
        "y= 0.2 + 25*x - 200*x**2 + 675*x**3 - 900*x**4 + 400*x**5\r\n",
        "a = sp.integrate(y,(x,0,0.8))\r\n",
        "print(\"integral real:\",a)\r\n",
        "Trap(0,0.8,a)\r\n",
        "TrapN(0,0.8,1000,a)"
      ],
      "execution_count": null,
      "outputs": [
        {
          "output_type": "stream",
          "text": [
            "integral real: 1.64053333333333\n",
            "El Area es: 0.1728000000000225 unidad cuadrada\n",
            "con un error relativo porcentual de: 849.382716049257 %\n",
            "El Area es: 1.6405307733344243 unidad cuadrada\n",
            "con un error relativo porcentual de: 0.000156046990863070 %\n"
          ],
          "name": "stdout"
        }
      ]
    },
    {
      "cell_type": "markdown",
      "metadata": {
        "id": "apQU-FazYUCt"
      },
      "source": [
        "b. Ejercicio 2\r\n",
        "\r\n",
        "![image.png](data:image/png;base64,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)"
      ]
    },
    {
      "cell_type": "code",
      "metadata": {
        "id": "uF6rfw1iYn70"
      },
      "source": [
        "import math\r\n",
        "def funcion(x):\r\n",
        "  return 6 + 3*math.cos(x)"
      ],
      "execution_count": null,
      "outputs": []
    },
    {
      "cell_type": "code",
      "metadata": {
        "colab": {
          "base_uri": "https://localhost:8080/"
        },
        "id": "mHHNzwkvY1nr",
        "outputId": "de91abda-4f3e-4cda-ead7-e9fcb6ea8ace"
      },
      "source": [
        "import math\r\n",
        "a = 12.42477796076938\r\n",
        "print(\"integral real:\",a)\r\n",
        "Trap( 0,math.pi /2,a)\r\n",
        "TrapN(0,math.pi /2,1000,a)"
      ],
      "execution_count": null,
      "outputs": [
        {
          "output_type": "stream",
          "text": [
            "integral real: 12.42477796076938\n",
            "El Area es: 11.780972450961723 unidad cuadrada\n",
            "con un error relativo porcentual de: 5.464790894703262 %\n",
            "El Area es: 12.42477734391909 unidad cuadrada\n",
            "con un error relativo porcentual de: 4.964678825896953e-06 %\n"
          ],
          "name": "stdout"
        }
      ]
    },
    {
      "cell_type": "markdown",
      "metadata": {
        "id": "hYLjsmRCjaYK"
      },
      "source": [
        "c. Ejercicio 3\r\n",
        "\r\n",
        "![image.png](data:image/png;base64,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)"
      ]
    },
    {
      "cell_type": "code",
      "metadata": {
        "id": "FT7j0VpVjhUt"
      },
      "source": [
        "def funcion(x):\r\n",
        "  return 1-x-4*x**3+2*x**5"
      ],
      "execution_count": null,
      "outputs": []
    },
    {
      "cell_type": "code",
      "metadata": {
        "colab": {
          "base_uri": "https://localhost:8080/"
        },
        "id": "dW_5cFW5jvvz",
        "outputId": "f54edd42-e443-4443-8992-a60864107682"
      },
      "source": [
        "import sympy as sp\r\n",
        "x = sp.Symbol('x')\r\n",
        "y= 1-x-4*x**3+2*x**5\r\n",
        "a = sp.integrate(y,(x,-2,4))\r\n",
        "print(\"integral real:\",a)\r\n",
        "Trap(-2,4,a)\r\n",
        "TrapN(-2,4,1000,a)"
      ],
      "execution_count": null,
      "outputs": [
        {
          "output_type": "stream",
          "text": [
            "integral real: 1104\n",
            "El Area es: 5280.0 unidad cuadrada\n",
            "con un error relativo porcentual de: 79.0909090909091 %\n",
            "El Area es: 1104.006767997408 unidad cuadrada\n",
            "con un error relativo porcentual de: 0.000613039485272563 %\n"
          ],
          "name": "stdout"
        }
      ]
    }
  ]
}