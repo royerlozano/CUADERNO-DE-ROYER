{
  "nbformat": 4,
  "nbformat_minor": 0,
  "metadata": {
    "colab": {
      "name": "Untitled5.ipynb",
      "provenance": [],
      "authorship_tag": "ABX9TyP1vIWPztHaGZjJc3cyoOw+",
      "include_colab_link": true
    },
    "kernelspec": {
      "name": "python3",
      "display_name": "Python 3"
    }
  },
  "cells": [
    {
      "cell_type": "markdown",
      "metadata": {
        "id": "view-in-github",
        "colab_type": "text"
      },
      "source": [
        "<a href=\"https://colab.research.google.com/github/royerlozano/CUADERNO-DE-ROYER/blob/main/guia8MN.ipynb\" target=\"_parent\"><img src=\"https://colab.research.google.com/assets/colab-badge.svg\" alt=\"Open In Colab\"/></a>"
      ]
    },
    {
      "cell_type": "markdown",
      "metadata": {
        "id": "3ERD-4Fh4TF-"
      },
      "source": [
        "**INTERPOLACION DE NEWTON**\r\n",
        "primero importaremos la libreria numpy para lo que serian nuestras matrices"
      ]
    },
    {
      "cell_type": "code",
      "metadata": {
        "id": "iAXlfQ4Y4Jug"
      },
      "source": [
        "import numpy as np"
      ],
      "execution_count": 10,
      "outputs": []
    },
    {
      "cell_type": "code",
      "metadata": {
        "colab": {
          "base_uri": "https://localhost:8080/"
        },
        "id": "GemLCmeQ4BBE",
        "outputId": "93a97003-c1cd-4181-8101-8192f526aa9c"
      },
      "source": [
        "#crearemos un modulo para la interpolacion\r\n",
        "def interpolacion(x,y,n,xi,yint,Ea):\r\n",
        "  \r\n",
        "  matriz = array = np.arange(n*n*1.0).reshape(n,n)\r\n",
        "  matriz = np.zeros((n, n))\r\n",
        "  for i in range(0,n):\r\n",
        "    matriz[i,0] = y[i]\r\n",
        "  for j in range(1,n):\r\n",
        "    for i in range(0,n-j):\r\n",
        "      matriz[i,j] = ( matriz[i+1, j-1] - matriz[i,j-1] ) / ( x[i+j] - x[i] )\r\n",
        "  \r\n",
        "  xterm = 1\r\n",
        "  yint[0] = matriz[0,0]\r\n",
        "  for order in range(1,n):\r\n",
        "    xterm *= ( xi - x[order-1] )\r\n",
        "    yint2 = yint[order-1] + matriz[0,order] * xterm\r\n",
        "    Ea[order-1] = yint2 - yint[order-1] \r\n",
        "    yint[order] = yint2\r\n",
        "\r\n",
        "  print(\"para\",xi,\"el f(x) = \",yint[n-1])\r\n",
        "\r\n",
        "#main\r\n",
        "#programa principal\r\n",
        "n = 6\r\n",
        "yint = [0]*n\r\n",
        "Ea = [0]*n\r\n",
        "x = [1,2, 3, 5,  7,  8]\r\n",
        "y = [3,6,19,99,291,444]\r\n",
        "#llamado de datos\r\n",
        "interpolacion(x,y,n,1,yint,Ea)\r\n",
        "interpolacion(x,y,n,2,yint,Ea)\r\n",
        "interpolacion(x,y,n,3,yint,Ea)\r\n",
        "#interpolacion(x,y,n,4,yint,Ea)\r\n",
        "interpolacion(x,y,n,5,yint,Ea)\r\n",
        "#interpolacion(x,y,n,6,yint,Ea)\r\n",
        "interpolacion(x,y,n,7,yint,Ea)\r\n",
        "interpolacion(x,y,n,8,yint,Ea)"
      ],
      "execution_count": 5,
      "outputs": [
        {
          "output_type": "stream",
          "text": [
            "para 1 el f(x) =  3.0\n",
            "para 2 el f(x) =  6.0\n",
            "para 3 el f(x) =  19.0\n",
            "para 5 el f(x) =  99.0\n",
            "para 7 el f(x) =  291.0\n",
            "para 8 el f(x) =  444.0\n"
          ],
          "name": "stdout"
        }
      ]
    },
    {
      "cell_type": "markdown",
      "metadata": {
        "id": "eIhfQTQL5UG0"
      },
      "source": [
        "**INTERPOLACION DE LAGRANGE**\r\n",
        "usaremosel otro tipo de interpolacion"
      ]
    },
    {
      "cell_type": "code",
      "metadata": {
        "colab": {
          "base_uri": "https://localhost:8080/"
        },
        "id": "D9KRn5H55bcx",
        "outputId": "48895d2e-19c7-4aea-df82-3746a58fc44e"
      },
      "source": [
        "#creamos un modulo para la interpolacion de lagrange\r\n",
        "def Lagrange(x,y,n,xi):\r\n",
        "  sum = 0\r\n",
        "  for i in range(0,n):\r\n",
        "    product = y[i]\r\n",
        "    for j in range(0,n):\r\n",
        "      if (i!=j):\r\n",
        "        product *= (xi-x[j])/(x[i]-x[j])\r\n",
        "    sum += product\r\n",
        "  Lagrang = sum\r\n",
        "  print(\"para\",xi,\"el f(x) = \",Lagrang)\r\n",
        "#llamado de datos\r\n",
        "Lagrange(x,y,n,1)\r\n",
        "Lagrange(x,y,n,2)\r\n",
        "Lagrange(x,y,n,3)\r\n",
        "Lagrange(x,y,n,4)\r\n",
        "Lagrange(x,y,n,5)\r\n",
        "Lagrange(x,y,n,6)\r\n",
        "Lagrange(x,y,n,7)\r\n",
        "Lagrange(x,y,n,8)"
      ],
      "execution_count": 18,
      "outputs": [
        {
          "output_type": "stream",
          "text": [
            "para 1 el f(x) =  3.0\n",
            "para 2 el f(x) =  6.0\n",
            "para 3 el f(x) =  19.0\n",
            "para 4 el f(x) =  47.99999999999999\n",
            "para 5 el f(x) =  99.0\n",
            "para 6 el f(x) =  178.0\n",
            "para 7 el f(x) =  291.0\n",
            "para 8 el f(x) =  444.0\n"
          ],
          "name": "stdout"
        }
      ]
    },
    {
      "cell_type": "markdown",
      "metadata": {
        "id": "xtQ-9LAg4SHo"
      },
      "source": [
        ""
      ]
    }
  ]
}