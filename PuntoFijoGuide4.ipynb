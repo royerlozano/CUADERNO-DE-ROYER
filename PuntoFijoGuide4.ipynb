{
  "nbformat": 4,
  "nbformat_minor": 0,
  "metadata": {
    "colab": {
      "name": "Untitled6.ipynb",
      "provenance": [],
      "authorship_tag": "ABX9TyNtjxHXH4a4QSKjbo1DF/NU",
      "include_colab_link": true
    },
    "kernelspec": {
      "name": "python3",
      "display_name": "Python 3"
    }
  },
  "cells": [
    {
      "cell_type": "markdown",
      "metadata": {
        "id": "view-in-github",
        "colab_type": "text"
      },
      "source": [
        "<a href=\"https://colab.research.google.com/github/royerlozano/CUADERNO-DE-ROYER/blob/main/PuntoFijoGuide4.ipynb\" target=\"_parent\"><img src=\"https://colab.research.google.com/assets/colab-badge.svg\" alt=\"Open In Colab\"/></a>"
      ]
    },
    {
      "cell_type": "markdown",
      "metadata": {
        "id": "SARTnZ-eNGw1"
      },
      "source": [
        "ingresamos las funciones"
      ]
    },
    {
      "cell_type": "code",
      "metadata": {
        "id": "GtZMYXg_M-fc"
      },
      "source": [
        "def funcion(x):\r\n",
        "    return x**3+4*x**2-10\r\n",
        "    #return x**3+2*x**2-x\r\n",
        "    #return 4*x**4-x**3+3*x**2-7"
      ],
      "execution_count": 2,
      "outputs": []
    },
    {
      "cell_type": "code",
      "metadata": {
        "colab": {
          "base_uri": "https://localhost:8080/"
        },
        "id": "qN0gmPXdNBYJ",
        "outputId": "8cc0bd45-be10-4187-9b39-340b3e3f82d6"
      },
      "source": [
        "def PuntoMedio(x0,es,imax,ea):\r\n",
        "  \r\n",
        "  #CRITERIO DE ERROR DE N CIFRAS SIGNIFICATIVAS\r\n",
        "  es=0.5*(10**(2-es))\r\n",
        "\r\n",
        "  xr = x0\r\n",
        "  iter = 0\r\n",
        "  \r\n",
        "  while ( ea > es and iter < imax ):\r\n",
        "    xrold = xr \r\n",
        "    xr = funcion(xrold)\r\n",
        "    iter +=1\r\n",
        "    if (xr != 0 ):\r\n",
        "      ea = abs( (xr -xrold)/xr )*100\r\n",
        "  res = xr\r\n",
        "  print(\"raiz: \",xr)\r\n",
        "\r\n",
        "x0 = int(input(\"Ingrese valor inicial: \"))\r\n",
        "iterMax = int(input(\"Ingrese número de iteraciones maximas: \"))\r\n",
        "n=int(input(\"Ingrese n cifras significativas: \")) \r\n",
        "\r\n",
        "PuntoMedio(x0,n,iterMax,100)"
      ],
      "execution_count": 3,
      "outputs": [
        {
          "output_type": "stream",
          "text": [
            "Ingrese valor inicial: 1\n",
            "Ingrese número de iteraciones maximas: 5\n",
            "Ingrese n cifras significativas: 4\n",
            "raiz:  -164578071739281241221710869027542282879485\n"
          ],
          "name": "stdout"
        }
      ]
    }
  ]
}