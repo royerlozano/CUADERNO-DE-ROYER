{
  "nbformat": 4,
  "nbformat_minor": 0,
  "metadata": {
    "colab": {
      "name": "Untitled4.ipynb",
      "provenance": [],
      "authorship_tag": "ABX9TyPbyOJ8rLWScriR6lIcHYxD",
      "include_colab_link": true
    },
    "kernelspec": {
      "name": "python3",
      "display_name": "Python 3"
    }
  },
  "cells": [
    {
      "cell_type": "markdown",
      "metadata": {
        "id": "view-in-github",
        "colab_type": "text"
      },
      "source": [
        "<a href=\"https://colab.research.google.com/github/royerlozano/CUADERNO-DE-ROYER/blob/main/guia3.ipynb\" target=\"_parent\"><img src=\"https://colab.research.google.com/assets/colab-badge.svg\" alt=\"Open In Colab\"/></a>"
      ]
    },
    {
      "cell_type": "markdown",
      "metadata": {
        "id": "hmrCLkWzWwub"
      },
      "source": [
        "BISECCION"
      ]
    },
    {
      "cell_type": "code",
      "metadata": {
        "colab": {
          "base_uri": "https://localhost:8080/"
        },
        "id": "PoCF3dC_WVqL",
        "outputId": "e51f6cc3-8090-4591-b580-6e7dbd51ea41"
      },
      "source": [
        "#DEFINIREMOS FUNCION DE \"X\"\r\n",
        "def funcion(x):\r\n",
        "    return x*3+4*x*2-10\r\n",
        "    #return x*3+2*x*2-x\r\n",
        "    #return 4*x*4-x3+3*x*2-7\r\n",
        "\r\n",
        "#INGRESAMOS MEDIANTE USUARIO EL LIMITE INFERIOR LIMITE SUPERIOR Y EL VALOR DE LAS CIFRAS SIGNIFICATIVAS\r\n",
        "limInf=float(input(\"limite inferior: \"))\r\n",
        "limSup=float(input(\"limite superior: \")) \r\n",
        "n=int(input(\"Ingrese el valor de n(aproximacion de la raiz en al menos n cifras significativas): \"))\r\n",
        "#NUESTRO CONTADOR DE ITERACIONES INICIALIZAMOS EN 1\r\n",
        "iter=1\r\n",
        "#POR TEORIA TENEMOS EL CRITERIO DE ERROR PARA N CIFRAS SIGNIFICATIVAS\r\n",
        "CritError=0.5*(10**(2-n))\r\n",
        "#RAIZ 1\r\n",
        "raiz1=(limSup+limInf)/2\r\n",
        "#REALIZAMOS LA EVALUACION DE LOS LIMITES Y DE NUESTRA RAIZ EN LA FUNCION\r\n",
        "L1=funcion(limInf)\r\n",
        "L2=funcion(limSup)\r\n",
        "R1=funcion(raiz1)\r\n",
        "#ERROR ESTIMADO\r\n",
        "ErrorEst=1\r\n",
        "#EN CASO DE NO EXISTIR UN INTERVALO ENTRE LOS LIMITES\r\n",
        "if(L1*R1>0 and L2*R1>0):\r\n",
        "    print(\"NO EXISTE RAIZ ENTRE LOS LIMITES\")\r\n",
        "#EN CASO DE EXISTIR RAIZ\r\n",
        "else:\r\n",
        "    print(raiz1)\r\n",
        "    print(\"n\\tLInferior\\t\\t\\tLSuperior\\t\\t\\tRaizAprox\\t\\t\\tf(raizAprox)\\t\\t\\tEa\")\r\n",
        "    print(\"=\"*160)\r\n",
        "    #IMPRIMIREMOS NUESTROS DATOS INICIALES\r\n",
        "    print(\"%d\\t%.14f\\t\\t%.14f\\t\\t%.14f\\t\\t%.14f\\t\\t-------\"%(iter,limInf,limSup,raiz1,R1))\r\n",
        "    while (ErrorEst>CritError):\r\n",
        "        if (L1*R1<0):\r\n",
        "            #ACTUALIZAMOS NUESTRO CONTADOR\r\n",
        "            iter=iter+1\r\n",
        "            #NUESTRA RAIZ SE CONVIERTE EN EL LIMITE SUPERIOR\r\n",
        "            limSup=raiz1\r\n",
        "            #ACTUALIZAMOS NUESTRA RAIZ\r\n",
        "            raiz1=(limInf+limSup)/2\r\n",
        "            #EVALUAMOS EL NUEVO LIMITE SUPERIOR Y NUESTRA NUEVA RAIZ EN LA FUNCION\r\n",
        "            R1=funcion(raiz1)\r\n",
        "            L2=funcion(limSup)\r\n",
        "            #ACTUALIZAMOS NUESTRO ERROR ESTIMADO\r\n",
        "            ErrorEst=(raiz1-limSup)*100/raiz1\r\n",
        "            if (ErrorEst<0):\r\n",
        "                ErrorEst*=-1\r\n",
        "            #IMPRIMIREMOS NUESTROS RESULTADOS    \r\n",
        "            print(\"%d\\t%.14f\\t\\t%.14f\\t\\t%.14f\\t\\t%.14f\\t\\t%.10f\"%(iter,limInf,limSup,raiz1,R1,ErrorEst))\r\n",
        "            continue\r\n",
        "        if (L2*R1<0):\r\n",
        "            #ACTUALIZAMOS NUESTRO CONTADOR\r\n",
        "            iter =iter+1\r\n",
        "            #NUESTRA RAIZ SE CONVIERTE EN EL LIMITE INFERIOR\r\n",
        "            limInf=raiz1\r\n",
        "            #AHORA ACTUALIZAMOS NUESTRA RAIZ\r\n",
        "            raiz1=(limInf+limSup)/2\r\n",
        "            #EVALUAMOS NUESTRA NUEVA RAIZ Y LIMITE SUPERIOR EN LA FUNCION\r\n",
        "            L1=funcion(limInf)\r\n",
        "            R1=funcion(raiz1)\r\n",
        "            #ACTUALIZAMOS NUESTRO ERROR ESTIMADO\r\n",
        "            ErrorEst=(raiz1-limInf)*100/raiz1\r\n",
        "            if (ErrorEst<0):\r\n",
        "                ErrorEst*=-1\r\n",
        "            #IMPRIMIREMOS LOS RESULTADOS \r\n",
        "            print(\"%d\\t%.14f\\t\\t%.14f\\t\\t%.14f\\t\\t%.14f\\t\\t%.10f\"%(iter,limInf,limSup,raiz1,R1,ErrorEst))"
      ],
      "execution_count": null,
      "outputs": [
        {
          "output_type": "stream",
          "text": [
            "limite inferior: 1\n",
            "limite superior: 2\n",
            "Ingrese el valor de n(aproximacion de la raiz en al menos n cifras significativas): 4\n",
            "NO EXISTE RAIZ ENTRE LOS LIMITES\n"
          ],
          "name": "stdout"
        }
      ]
    },
    {
      "cell_type": "markdown",
      "metadata": {
        "id": "mQoRruu6Wvij"
      },
      "source": [
        ""
      ]
    },
    {
      "cell_type": "markdown",
      "metadata": {
        "id": "iUpP0D-affa2"
      },
      "source": [
        "**FALSA POSICION**"
      ]
    },
    {
      "cell_type": "code",
      "metadata": {
        "colab": {
          "base_uri": "https://localhost:8080/"
        },
        "id": "x7Pdqc7wfZH3",
        "outputId": "67c89e99-a7d8-49eb-ac78-45d5fd593d53"
      },
      "source": [
        "#DEFINIMOS FUNC\r\n",
        "def func(x):\r\n",
        "    #return x*3+4*x*2-10\r\n",
        "    #return x*3+2*x*2-x\r\n",
        "    return 4*x*4-x*3+3*x*2-7\r\n",
        "#INGRESAMOS NUESTRA FUNCION\r\n",
        "print(\"ingrese la funcion: \")\r\n",
        "#print(\"x*3+4*x*2-10\")\r\n",
        "#print(\"x*3+2*x*2-x\")\r\n",
        "#IMPRIMEREMOS NUESTRA FUNCION\r\n",
        "print(\"4*x*4-x*3+3*x*2-7\")    \r\n",
        "#INGRESAMOS EL LIMITE SUPERIOR, INFERIOR Y LAS CIFRAS SIGNIFICATIVAS \r\n",
        "limInf=float(input(\"Ingrese el limite inferior: \"))\r\n",
        "limSup=float(input(\"Ingrese el limite superior: \"))\r\n",
        "n=int(input(\"Ingrese n(aproximacion de la raiz en al menos n cifras significativas): \"))\r\n",
        "#CONTADOR DE ITERACIONES\r\n",
        "iters=1\r\n",
        "#CRITERIO DE ERROR\r\n",
        "critE=0.5*(10**(2-n))\r\n",
        "#RAIZ 1\r\n",
        "raiz1=limSup-(func(limSup)*(limInf-limSup))/(func(limInf)-func(limSup))\r\n",
        "#EVALUAMOS EL LIMITE INFERIOR, SUPERIOR Y LA RAIZ EN LA FUNCION\r\n",
        "L1=func(limInf)\r\n",
        "L2=func(limSup)\r\n",
        "R1=func(raiz1)\r\n",
        "#ERROR ESTIMADA \r\n",
        "Eest=1\r\n",
        "#EN CASO DE NO EXISTIR ALGUNA RAIZ EN EL INTERVALO INGRESADO\r\n",
        "if(L1*R1>0 and L2*R1>0):\r\n",
        "    print(\"NO EXISTE RAIZ EN EL INTERVALO\")\r\n",
        "#EN CASO DE SI EXITIR RAIZ\r\n",
        "else:\r\n",
        "    print(raiz1)\r\n",
        "    print(\"n\\tLInferior\\t\\t\\tLSuperior\\t\\t\\tRaizAprox\\t\\t\\tf(raizAprox)\\t\\t\\tEa\")\r\n",
        "    print(\"=\"*160)\r\n",
        "    #IMPRIMIREMOS NUESTROS DATOS INICIALES INGRESADOS\r\n",
        "    print(\"%d\\t%.14f\\t\\t%.14f\\t\\t%.14f\\t\\t%.14f\\t\\t-------\"%(iters,limInf,limSup,raiz1,R1))\r\n",
        "    while (Eest>critE):\r\n",
        "        if (L1*R1<0):\r\n",
        "            #ACTUALIZAMOS NUESTRO CONTADOR\r\n",
        "            iters=iters+1\r\n",
        "            #NUESTRA RAIZ ANTERIOR SE CONVIERTE EN NUESTRO LIMITE SUPERIOR\r\n",
        "            limSup=raiz1\r\n",
        "            #ACTUALIZAMOS LA RAIZ\r\n",
        "            raiz1=limSup-(func(limSup)*(limInf-limSup))/(func(limInf)-func(limSup))\r\n",
        "            #nuevos limitesup y raizn evaluados en la funcion\r\n",
        "            R1=func(raiz1)\r\n",
        "            L2=func(limSup)\r\n",
        "            #ACTUALIZAMOS NUESTRO ERROR ESTIMADO\r\n",
        "            Eest=(raiz1-limSup)*100/raiz1\r\n",
        "            if (Eest<0):\r\n",
        "                errorA=errorA*-1\r\n",
        "            #IMPRIMIREMOS NUESTROS RESULTADOS\r\n",
        "            print(\"%d\\t%.14f\\t\\t%.14f\\t\\t%.14f\\t\\t%.14f\\t\\t%.10f\"%(iters,limInf,limSup,raiz1,R1,Eest))\r\n",
        "            continue\r\n",
        "            \r\n",
        "        if (L2*R1<0):\r\n",
        "            #actualizar contador de iteraciones\r\n",
        "            iters=iters+1\r\n",
        "            #raizn se vuelve el limite inf\r\n",
        "            limInf=raiz1\r\n",
        "            #actualizamos el valor de raizn\r\n",
        "            raiz1=limSup-(func(limSup)*(limInf-limSup))/(func(limInf)-func(limSup))\r\n",
        "            #nuevos limitesup y raizn evaluados en la funcion\r\n",
        "            L1=f(limInf)\r\n",
        "            R1=f(raiz1)\r\n",
        "            #actualizamos error estimada del error\r\n",
        "            Eest=(raiz1-limInf)*100/raiz1\r\n",
        "            if (Eest<0):\r\n",
        "                Eest=Eest*-1\r\n",
        "            #mostramos resultados \r\n",
        "            print(\"%d\\t%.14f\\t\\t%.14f\\t\\t%.14f\\t\\t%.14f\\t\\t%.10f\"%(iters,limInf,limSup,raiz1,R1,Eest))"
      ],
      "execution_count": null,
      "outputs": [
        {
          "output_type": "stream",
          "text": [
            "ingrese la funcion: \n",
            "4*x*4-x*3+3*x*2-7\n",
            "0.368421052631579\n",
            "n\tLInferior\t\t\tLSuperior\t\t\tRaizAprox\t\t\tf(raizAprox)\t\t\tEa\n",
            "================================================================================================================================================================\n",
            "1\t1.00000000000000\t\t2.00000000000000\t\t0.36842105263158\t\t0.00000000000000\t\t-------\n"
          ],
          "name": "stdout"
        }
      ]
    },
    {
      "cell_type": "markdown",
      "metadata": {
        "id": "toAcrRHzi_as"
      },
      "source": [
        ""
      ]
    }
  ]
}