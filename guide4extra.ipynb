{
  "nbformat": 4,
  "nbformat_minor": 0,
  "metadata": {
    "colab": {
      "name": "Untitled5.ipynb",
      "provenance": [],
      "authorship_tag": "ABX9TyN/OWZG2TIoETnQzmgTeFvN",
      "include_colab_link": true
    },
    "kernelspec": {
      "name": "python3",
      "display_name": "Python 3"
    }
  },
  "cells": [
    {
      "cell_type": "markdown",
      "metadata": {
        "id": "view-in-github",
        "colab_type": "text"
      },
      "source": [
        "<a href=\"https://colab.research.google.com/github/royerlozano/CUADERNO-DE-ROYER/blob/main/guide4extra.ipynb\" target=\"_parent\"><img src=\"https://colab.research.google.com/assets/colab-badge.svg\" alt=\"Open In Colab\"/></a>"
      ]
    },
    {
      "cell_type": "code",
      "metadata": {
        "colab": {
          "base_uri": "https://localhost:8080/",
          "height": 331
        },
        "id": "oQn2xuH0HO9n",
        "outputId": "5c1e45a9-c786-4fb0-ee1b-f8f504383769"
      },
      "source": [
        "# Algoritmo de punto fijo\r\n",
        "# [a,b] intervalo de búsqueda\r\n",
        "# error = tolera\r\n",
        "\r\n",
        "import numpy as np\r\n",
        "\r\n",
        "def puntofijo(gx,a,tolera, iteramax = 15):\r\n",
        "    i = 1 # iteración\r\n",
        "    b = gx(a)\r\n",
        "    tramo = abs(b-a)\r\n",
        "    while(tramo>=tolera and i<=iteramax ):\r\n",
        "        a = b\r\n",
        "        b = gx(a)\r\n",
        "        tramo = abs(b-a)\r\n",
        "        i = i + 1\r\n",
        "    respuesta = b\r\n",
        "    \r\n",
        "    # Validar respuesta\r\n",
        "    if (i>=iteramax ):\r\n",
        "        respuesta = np.nan\r\n",
        "    return(respuesta)\r\n",
        "\r\n",
        "# PROGRAMA ---------\r\n",
        "\r\n",
        "# INGRESO\r\n",
        "a = int(input(\"ingrese el limite inferior: \"))      # intervalo\r\n",
        "b = int(input(\"ingrese el limite superior: \")) \r\n",
        "fx = lambda x: np.exp(-x) - x\r\n",
        "gx = lambda x: np.exp(-x)\r\n",
        "tolera = 0.001\r\n",
        "iteramax = int(input(\"ingrese el numero de iteraciones maximas: \"))  # itera máximo\r\n",
        "muestras = 51  # gráfico\r\n",
        "tramos = 50\r\n",
        "\r\n",
        "# PROCEDIMIENTO\r\n",
        "respuesta = puntofijo(gx,a,tolera)\r\n",
        "\r\n",
        "# SALIDA\r\n",
        "print(respuesta)\r\n",
        "\r\n",
        "# GRAFICA\r\n",
        "# calcula los puntos para fx y gx\r\n",
        "xi = np.linspace(a,b,muestras)\r\n",
        "fi = fx(xi)\r\n",
        "gi = gx(xi)\r\n",
        "yi = xi\r\n",
        "\r\n",
        "import matplotlib.pyplot as plt\r\n",
        "\r\n",
        "plt.plot(xi,fi, label='f(x)')\r\n",
        "plt.plot(xi,gi, label='g(x)')\r\n",
        "plt.plot(xi,yi, label='y=x')\r\n",
        "\r\n",
        "if (respuesta!= np.nan):\r\n",
        "    plt.axvline(respuesta)\r\n",
        "plt.axhline(0, color='k')\r\n",
        "plt.title('Punto Fijo')\r\n",
        "plt.legend()\r\n",
        "plt.show()"
      ],
      "execution_count": 7,
      "outputs": [
        {
          "output_type": "stream",
          "text": [
            "ingrese el limite inferior: 1\n",
            "ingrese el limite superior: 2\n",
            "0.5669089119214953\n"
          ],
          "name": "stdout"
        },
        {
          "output_type": "display_data",
          "data": {
            "image/png": "[encoded data removed]",
            "text/plain": [
              "<Figure size 432x288 with 1 Axes>"
            ]
          },
          "metadata": {
            "tags": [],
            "needs_background": "light"
          }
        }
      ]
    },
    {
      "cell_type": "code",
      "metadata": {
        "colab": {
          "base_uri": "https://localhost:8080/"
        },
        "id": "5MM377wXJmXl",
        "outputId": "cbc872c3-38d2-4cf8-e7e1-683fdee4eaf6"
      },
      "source": [
        "import sympy as sp\r\n",
        "import numpy as np\r\n",
        "import pandas as pd\r\n",
        "x=sp.symbols('x')\r\n",
        "\r\n",
        "def funcion(ecua='x+2'):\r\n",
        "    global x\r\n",
        "    return sp.sympify(ecua)\r\n",
        "\"\"\" ecuacion tipo: string\r\n",
        "    x_0: valor inicial tipo:float\r\n",
        "    e_s tolerancia estimada tipo:float\"\"\"\r\n",
        "def MetodoPF(ecuacion,x_0,es):\r\n",
        "    global x\r\n",
        "    ecuacion=funcion(ecuacion)+x #tal q sea g(x)\r\n",
        "    ea=100\r\n",
        "    x_r=x_0 #x_i+1\r\n",
        "    iteracion=0 #inicio del contador en 0\r\n",
        "    while ea>es:\r\n",
        "        x_anterior=x_r# x_anterior = x_i\r\n",
        "        x_r=ecuacion.evalf(subs={x:x_anterior})#xr=g(x_anterior)\r\n",
        "        iteracion+=1#contador incrementado en 1\r\n",
        "        if x_r !=0:\r\n",
        "            ea=abs((x_r-x_anterior)/x_r)*100\r\n",
        "    return x_r\r\n",
        "#iniamos el programa con lo siguiente parametros\r\n",
        "a=MetodoPF('exp(-x)-x',0,0.01)\r\n",
        "print(a)"
      ],
      "execution_count": 14,
      "outputs": [
        {
          "output_type": "stream",
          "text": [
            "0.567157044001298\n"
          ],
          "name": "stdout"
        }
      ]
    },
    {
      "cell_type": "code",
      "metadata": {
        "colab": {
          "base_uri": "https://localhost:8080/"
        },
        "id": "sPIIpXwaL75r",
        "outputId": "aa9e4ddb-c1d9-4d2f-ba4b-746eb77dcec5"
      },
      "source": [
        "import sympy as sp\r\n",
        "import numpy as np\r\n",
        "import pandas as pd\r\n",
        "x=sp.symbols('x')\r\n",
        "\r\n",
        "def funcion(ecua='x+2'):\r\n",
        "    global x\r\n",
        "    return sp.sympify(ecua)\r\n",
        "\"\"\" ecuacion tipo: string\r\n",
        "    x_0: valor inicial tipo:float\r\n",
        "    e_s tolerancia estimada tipo:float\"\"\"\r\n",
        "def MetodoPF(ecuacion,x_0,es):\r\n",
        "    global x\r\n",
        "    ecuacion=funcion(ecuacion)\r\n",
        "    derivada=sp.diff(ecuacion)\r\n",
        "    f_NR=x-(ecuacion/derivada)#formula de Newton Rhapson\r\n",
        "    ea=100 #error aproximado 100%\r\n",
        "    x_r=x_0 #x_i+1\r\n",
        "    while ea>es:\r\n",
        "        x_anterior=x_r# x_anterior = x_i\r\n",
        "        x_r=f_NR.evalf(subs={x:x_anterior})\r\n",
        "        if x_r !=0:\r\n",
        "            ea=abs((x_r-x_anterior)/x_r)*100\r\n",
        "        print(x_r,ea)\r\n",
        "    return x_r\r\n",
        "#iniamos el programa con lo siguiente parametros\r\n",
        "a=MetodoPF('exp(-x)-x',0,0.01)\r\n",
        "print(\"raiz aproximada: \",a)"
      ],
      "execution_count": 16,
      "outputs": [
        {
          "output_type": "stream",
          "text": [
            "0.500000000000000 100.000000000000\n",
            "0.566311003197218 11.7092909766624\n",
            "0.567143165034862 0.146728707837439\n",
            "0.567143290409781 2.21063919843976e-5\n",
            "raiz aproximada:  0.567143290409781\n"
          ],
          "name": "stdout"
        }
      ]
    }
  ]
}