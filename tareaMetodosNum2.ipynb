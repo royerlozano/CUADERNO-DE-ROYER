{
  "nbformat": 4,
  "nbformat_minor": 0,
  "metadata": {
    "colab": {
      "name": "Untitled2.ipynb",
      "provenance": [],
      "authorship_tag": "ABX9TyPWuVeeKj9A27fr8X3tZsyO",
      "include_colab_link": true
    },
    "kernelspec": {
      "name": "python3",
      "display_name": "Python 3"
    }
  },
  "cells": [
    {
      "cell_type": "markdown",
      "metadata": {
        "id": "view-in-github",
        "colab_type": "text"
      },
      "source": [
        "<a href=\"https://colab.research.google.com/github/royerlozano/CUADERNO-DE-ROYER/blob/main/tareaMetodosNum2.ipynb\" target=\"_parent\"><img src=\"https://colab.research.google.com/assets/colab-badge.svg\" alt=\"Open In Colab\"/></a>"
      ]
    },
    {
      "cell_type": "markdown",
      "metadata": {
        "id": "FReio5bkbUTU"
      },
      "source": [
        "usaremos algunas funciones en los algoritmos para resolver los problemas planteados en la guía, para ahorrar recursos computacionales y tiempo en la hora de compilar el programa,ya que con el calculo de cifras significativas se demoraria demasiado.\r\n",
        "\r\n"
      ]
    },
    {
      "cell_type": "markdown",
      "metadata": {
        "id": "pwESQ_WHcQuh"
      },
      "source": [
        "importamos la libreria math"
      ]
    },
    {
      "cell_type": "code",
      "metadata": {
        "id": "wY4AEIzlbG_r"
      },
      "source": [
        "import math # uso de la librería math"
      ],
      "execution_count": 6,
      "outputs": []
    },
    {
      "cell_type": "markdown",
      "metadata": {
        "id": "-fmIrWcecfiK"
      },
      "source": [
        "calculamos el factorial de los primeros 50 números para ahorrar recursos y tiempo en cada iteracion"
      ]
    },
    {
      "cell_type": "code",
      "metadata": {
        "id": "p7bhqmKycNWL"
      },
      "source": [
        "factorial = [1]*100\r\n",
        "valor = 1\r\n",
        "for k in range(1,100):\r\n",
        "  valor = valor * k\r\n",
        "  factorial[k] = valor"
      ],
      "execution_count": 7,
      "outputs": []
    },
    {
      "cell_type": "markdown",
      "metadata": {
        "id": "JQQYCOwtc13Q"
      },
      "source": [
        "definiremos ErrorRelativoPorcentual y EstimacionAprox"
      ]
    },
    {
      "cell_type": "code",
      "metadata": {
        "id": "suyiEhOncyL4"
      },
      "source": [
        "def ErrorRelativoPorcentual(a,b):\r\n",
        "  return (abs(a-b)/a)*100\r\n",
        "\r\n",
        "def EstimacionAprox(a,b):\r\n",
        "  return (abs(a-b)/a)*100"
      ],
      "execution_count": 8,
      "outputs": []
    },
    {
      "cell_type": "markdown",
      "metadata": {
        "id": "xsREMo99dLWv"
      },
      "source": [
        "EJERCICIO 1\r\n",
        "\r\n",
        "Determine el número de términos necesarios para aproximar sen(x) a 6 cifras significativas con el uso de la serie de MacLaurin. En cada iteración mostrar el número de términos, resultado, εt (%), εa (%) .\r\n",
        "--------------------------------------------------------------------------------\r\n",
        "PRIMERO CALCULAREMOS EL VALOR MAS CERCANO AL REAL DEPENDIENDO LA CANTIDAD DE ENTRADA DE LAS CIFRAS SIGNIFICATIVAS, Y EN CASO NO SE CUMPLA VOLVEMOS A REPETIR EL CALCULO DEL PROBLEMA. PARA EL SENO DE X (VALOR INGRESADO MEDIANTE USUARIO) REALIZAMOS LOS CALCULOS TRABAJANDO LOS TERMINOS IMPARES DE LA SERIE MACLAURIN."
      ]
    },
    {
      "cell_type": "code",
      "metadata": {
        "colab": {
          "base_uri": "https://localhost:8080/"
        },
        "id": "Okt0cITYdENy",
        "outputId": "4d139a1e-f103-44c5-8eda-5d1dc8b4660c"
      },
      "source": [
        "#ingresamos el valor del angulo 'x'\r\n",
        "angulo=float(input(\"Ingrese angulo:\"))\r\n",
        "angulo=math.radians(angulo)\r\n",
        "#cifras significativas = 6\r\n",
        "n=6 \r\n",
        "CriterioDeError=0.5*(10**(2-n))\r\n",
        "\r\n",
        "ValorVerdadero = math.sin(angulo)\r\n",
        "AproximacionActual = 0\r\n",
        "AproximacionAnterior = 0\r\n",
        "\r\n",
        "ErrorRelPorc = 0\r\n",
        "EstimacionAproximada = CriterioDeError + 1\r\n",
        "EstAprox = 0\r\n",
        "print(\"Criterio de error: \",CriterioDeError)\r\n",
        "print(\"Valor verdadero: \",ValorVerdadero)\r\n",
        "\r\n",
        "Senx = 0\r\n",
        "k = 0\r\n",
        "#Calculamos las estimaciones\r\n",
        "print(\"Termino  sen(x) \\t\\t et(x) \\t\\t\\t ea(x)\")\r\n",
        "while ( EstimacionAproximada > CriterioDeError ) :\r\n",
        "  Senx=Senx+(-1)**k*angulo**(2*k+1)/factorial[2*k+1]\r\n",
        "  #hallamos el error relativo porcentual\r\n",
        "  ErrorRelPorc = ErrorRelativoPorcentual(ValorVerdadero,Senx)\r\n",
        "  EstAprox = EstimacionAprox(Senx,AproximacionAnterior)\r\n",
        "  if (AproximacionAnterior == 0):\r\n",
        "    EstAprox = 0\r\n",
        "  if (AproximacionAnterior != 0):\r\n",
        "    EstimacionAproximada = EstAprox\r\n",
        "  AproximacionAnterior = Senx\r\n",
        "  k+=1\r\n",
        "  print( k,\"\\t\",Senx,\"\\t\",ErrorRelPorc ,\"\\t\", EstAprox)"
      ],
      "execution_count": 11,
      "outputs": [
        {
          "output_type": "stream",
          "text": [
            "Ingrese angulo:45\n",
            "Criterio de error:  5e-05\n",
            "Valor verdadero:  0.7071067811865475\n",
            "Termino  sen(x) \t\t et(x) \t\t\t ea(x)\n",
            "1 \t 0.7853981633974483 \t 11.072073453959161 \t 0\n",
            "2 \t 0.7046526512091675 \t 0.3470663897837069 \t 11.458909868532153\n",
            "3 \t 0.7071430457793603 \t 0.005128587898980941 \t 0.3521769159799919\n",
            "4 \t 0.7071064695751781 \t 4.4068502475925586e-05 \t 0.005172658680970086\n",
            "5 \t 0.7071067829368671 \t 2.475325811534497e-07 \t 4.431603494738241e-05\n"
          ],
          "name": "stdout"
        }
      ]
    },
    {
      "cell_type": "markdown",
      "metadata": {
        "id": "5vNWQihah5Cf"
      },
      "source": [
        "**EJERCICIO 2**\r\n",
        "Determine el número de términos necesarios para aproximar cos(x) a 6 cifras significativas con el uso de la serie de MacLaurin. En cada iteración mostrar el número de términos, resultado, εt(%), εa(%)"
      ]
    },
    {
      "cell_type": "markdown",
      "metadata": {
        "id": "v4nk6GEviMwa"
      },
      "source": [
        "Este algoritmo calcula el valor mas cercano al real dependiendo de la cantidad de entrada de las cifras significativas, en caso de no cumplir repetimos el calculo del problema. Para el Coseno de x (valor ingresado mediante usuario). de forma similar al sen(x) hacemos los calculos trabajando con los terminos pares de la serie de MacLaurin."
      ]
    },
    {
      "cell_type": "code",
      "metadata": {
        "colab": {
          "base_uri": "https://localhost:8080/"
        },
        "id": "iN2EbyvliHzq",
        "outputId": "b49fb997-e118-4e45-a881-4a202097a728"
      },
      "source": [
        "#ingresamos el valor del angulo x\r\n",
        "angulo=float(input(\"Ingrese angulo:\"))\r\n",
        "angulo=math.radians(angulo) \r\n",
        "\r\n",
        "#cifras significativas = 8\r\n",
        "n = 8\r\n",
        "CriterioDeError=0.5*(10**(2-n))\r\n",
        "\r\n",
        "ValorVerdadero = math.cos(angulo)\r\n",
        "AproximacionActual = 0\r\n",
        "AproximacionAnterior = 0\r\n",
        "\r\n",
        "ErrorRrelPorc = 0\r\n",
        "EstimacionAproximada = CriterioDeError + 1\r\n",
        "EstAprox = 0\r\n",
        "print(\"Criterio de error: \",CriterioDeError)\r\n",
        "print(\"Valor verdadero: \",ValorVerdadero)\r\n",
        "\r\n",
        "Cosx = 0\r\n",
        "k = 0\r\n",
        "##Calculamos las estimaciones\r\n",
        "print(\"Termino  cos(x) \\t\\t et(x) \\t\\t\\t ea(x)\")\r\n",
        "while ( EstimacionAproximada > CriterioDeError ) :\r\n",
        "  Cosx=Cosx+(-1)**k*angulo**(2*k)/factorial[2*k]\r\n",
        "  #calculamos error relativo porcentual\r\n",
        "  ErrorRrelPorc = ErrorRelativoPorcentual(ValorVerdadero,Cosx)\r\n",
        "  EstAprox = EstimacionAprox(Cosx,AproximacionAnterior)\r\n",
        "  if (AproximacionAnterior == 0):\r\n",
        "    EstAprox = 0\r\n",
        "  if (AproximacionAnterior != 0):\r\n",
        "    EstimacionAproximada = EstAprox\r\n",
        "  AproximacionAnterior = Cosx\r\n",
        "  k+=1\r\n",
        "  print( k,\"\\t\",Cosx,\"\\t\",ErrorRrelPorc ,\"\\t\", EstAprox)"
      ],
      "execution_count": 12,
      "outputs": [
        {
          "output_type": "stream",
          "text": [
            "Ingrese angulo:45\n",
            "Criterio de error:  5e-07\n",
            "Valor verdadero:  0.7071067811865476\n",
            "Termino  cos(x) \t\t et(x) \t\t\t ea(x)\n",
            "1 \t 1.0 \t 41.421356237309496 \t 0\n",
            "2 \t 0.6915748624659576 \t 2.1965450104334963 \t 44.5975055302454\n",
            "3 \t 0.707429206709773 \t 0.04559785478007124 \t 2.241120962131809\n",
            "4 \t 0.7071032148228457 \t 0.0005043599915599525 \t 0.04610244729393047\n",
            "5 \t 0.7071068056832942 \t 3.4643631319841066e-06 \t 0.0005078243370990575\n",
            "6 \t 0.7071067810719247 \t 1.6210121272113483e-08 \t 3.480573253820425e-06\n",
            "7 \t 0.7071067811869363 \t 5.496893697851896e-11 \t 1.626509020908306e-08\n"
          ],
          "name": "stdout"
        }
      ]
    },
    {
      "cell_type": "markdown",
      "metadata": {
        "id": "HTML36nejdj3"
      },
      "source": [
        "**EJERCICIO 3**\r\n",
        "Determine el número de términos necesarios para aproximar tan(x) a 4 cifras significativas con el uso de la serie de McLaurin. En cada iteración mostrar el número de términos, resultado, εt(%), εa(%)"
      ]
    },
    {
      "cell_type": "markdown",
      "metadata": {
        "id": "wIo-eBlmjlfy"
      },
      "source": [
        "ESTE ALGORITMO CALCULA EL VALOR MAS CERCANO AL REAL, DEPENDIENDO DE LA CANTIDAD DE ENTRADA DE CIFRAS SIGNIFICATIVAS, REPETIREMOS EL CALCULO EN CASO DE NO CUMPLIRSE, PARA LA TANGENTE DE X (VALOR INGRESADO MEDIANTE USUARIO) EN ESTE CASO USAREMOS TANTO COMO LOS TERMINOS IMPARES Y PARES DE LA SERIE MACLAURIN PARES:PARA EL COSX\r\n",
        "IMPARES: PARA EL SENX\r\n",
        "TANGX=(SENX/COSX)"
      ]
    },
    {
      "cell_type": "code",
      "metadata": {
        "colab": {
          "base_uri": "https://localhost:8080/"
        },
        "id": "G9FMuiYpkkIm",
        "outputId": "5324ef7b-bdca-46bc-a10c-d64f2c1908ff"
      },
      "source": [
        "#ingresamos el valor del angulo x\r\n",
        "angulo=float(input(\"Ingrese angulo:\"))\r\n",
        "angulo=math.radians(angulo) \r\n",
        "\r\n",
        "#cifras significativas = 4\r\n",
        "n = 4\r\n",
        "CriterioDeError=0.5*(10**(2-n))\r\n",
        "\r\n",
        "ValorVerdadero = math.tan(angulo)\r\n",
        "AproximacionActual = 0\r\n",
        "AproximacionAnterior = 0\r\n",
        "\r\n",
        "ErrorRelPorc = 0\r\n",
        "EstimacionAproximada = CriterioDeError + 1\r\n",
        "EstAprox = 0\r\n",
        "print(\"Criterio de error: \",CriterioDeError)\r\n",
        "print(\"Valor verdadero: \",ValorVerdadero)\r\n",
        "SenX = 0\r\n",
        "CosX = 0\r\n",
        "TanX = 0\r\n",
        "k = 0\r\n",
        "##Calculamos las estimaciones\r\n",
        "print(\"Termino  tan(x) \\t\\t et(x) \\t\\t\\t ea(x)\")\r\n",
        "while ( EstimacionAproximada > CriterioDeError ) :\r\n",
        "  SenX=SenX+(-1)**k*angulo**(2*k+1)/factorial[2*k+1]\r\n",
        "  CosX=CosX+(-1)**k*angulo**(2*k)/factorial[2*k]\r\n",
        "  TanX = SenX/CosX\r\n",
        "\r\n",
        "  #calculamos error relativo porcentual\r\n",
        "  ErrorRelPorc = ErrorRelativoPorcentual(ValorVerdadero,TanX)\r\n",
        "  EstAprox = EstimacionAprox(TanX,AproximacionAnterior)\r\n",
        "  if (AproximacionAnterior == 0):\r\n",
        "    EstAprox = 0\r\n",
        "  if (AproximacionAnterior != 0):\r\n",
        "    EstimacionAproximada = EstAprox\r\n",
        "  AproximacionAnterior = TanX\r\n",
        "  k+=1\r\n",
        "  print( k,\"\\t\",TanX,\"\\t\",ErrorRelPorc ,\"\\t\", EstAprox)"
      ],
      "execution_count": 14,
      "outputs": [
        {
          "output_type": "stream",
          "text": [
            "Ingrese angulo:53\n",
            "Criterio de error:  0.005\n",
            "Valor verdadero:  1.3270448216204098\n",
            "Termino  tan(x) \t\t et(x) \t\t\t ea(x)\n",
            "1 \t 0.9250245035569946 \t 30.294403890030008 \t 0\n",
            "2 \t 1.3861480454249742 \t 4.453747367206135 \t 33.26654345399342\n",
            "3 \t 1.3253463810992163 \t 0.1279866733604063 \t 4.587605564315204\n",
            "4 \t 1.3270716097393012 \t 0.0020186295485205208 \t 0.13000267863644202\n",
            "5 \t 1.3270445622502096 \t 1.9544946484141263e-05 \t 0.002038174893364854\n"
          ],
          "name": "stdout"
        }
      ]
    },
    {
      "cell_type": "markdown",
      "metadata": {
        "id": "frglwLGkbIBH"
      },
      "source": [
        ""
      ]
    }
  ]
}