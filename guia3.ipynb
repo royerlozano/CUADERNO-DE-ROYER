{
  "nbformat": 4,
  "nbformat_minor": 0,
  "metadata": {
    "colab": {
      "name": "Untitled4.ipynb",
      "provenance": [],
      "authorship_tag": "ABX9TyMqDc7gcObdJ6r9+i+vpiqt",
      "include_colab_link": true
    },
    "kernelspec": {
      "name": "python3",
      "display_name": "Python 3"
    }
  },
  "cells": [
    {
      "cell_type": "markdown",
      "metadata": {
        "id": "view-in-github",
        "colab_type": "text"
      },
      "source": [
        "<a href=\"https://colab.research.google.com/github/royerlozano/CUADERNO-DE-ROYER/blob/main/guia3.ipynb\" target=\"_parent\"><img src=\"https://colab.research.google.com/assets/colab-badge.svg\" alt=\"Open In Colab\"/></a>"
      ]
    },
    {
      "cell_type": "markdown",
      "metadata": {
        "id": "hmrCLkWzWwub"
      },
      "source": [
        "BISECCION"
      ]
    },
    {
      "cell_type": "code",
      "metadata": {
        "colab": {
          "base_uri": "https://localhost:8080/"
        },
        "id": "PoCF3dC_WVqL",
        "outputId": "e4cb663b-bc29-4468-9382-c993ab79ae37"
      },
      "source": [
        "#DEFINIREMOS FUNCION DE \"X\"\r\n",
        "def funcion(x):\r\n",
        "    #return x**3+4*x**2-10\r\n",
        "    #return x**3+2*x**2-x\r\n",
        "    return 4*x**4-x**3+3*x**2-7\r\n",
        "\r\n",
        "#INGRESAMOS MEDIANTE USUARIO EL LIMITE INFERIOR LIMITE SUPERIOR Y EL VALOR DE LAS CIFRAS SIGNIFICATIVAS\r\n",
        "limInf=float(input(\"limite inferior: \"))\r\n",
        "limSup=float(input(\"limite superior: \")) \r\n",
        "n=int(input(\"Ingrese el valor de n(aproximacion de la raiz en al menos n cifras significativas): \"))\r\n",
        "#NUESTRO CONTADOR DE ITERACIONES INICIALIZAMOS EN 1\r\n",
        "iter=1\r\n",
        "#POR TEORIA TENEMOS EL CRITERIO DE ERROR PARA N CIFRAS SIGNIFICATIVAS\r\n",
        "CritError=0.5*(10**(2-n))\r\n",
        "#RAIZ 1\r\n",
        "raiz1=(limSup+limInf)/2\r\n",
        "#REALIZAMOS LA EVALUACION DE LOS LIMITES Y DE NUESTRA RAIZ EN LA FUNCION\r\n",
        "L1=funcion(limInf)\r\n",
        "L2=funcion(limSup)\r\n",
        "R1=funcion(raiz1)\r\n",
        "#ERROR ESTIMADO\r\n",
        "ErrorEst=1\r\n",
        "#EN CASO DE NO EXISTIR UN INTERVALO ENTRE LOS LIMITES\r\n",
        "if(L1*R1>0 and L2*R1>0):\r\n",
        "    print(\"NO EXISTE RAIZ ENTRE LOS LIMITES\")\r\n",
        "#EN CASO DE EXISTIR RAIZ\r\n",
        "else:\r\n",
        "    print(raiz1)\r\n",
        "    print(\"n\\tLInferior\\t\\t\\tLSuperior\\t\\t\\tRaizAprox\\t\\t\\tf(raizAprox)\\t\\t\\tEa\")\r\n",
        "    print(\"=\"*160)\r\n",
        "    #IMPRIMIREMOS NUESTROS DATOS INICIALES\r\n",
        "    print(\"%d\\t%.14f\\t\\t%.14f\\t\\t%.14f\\t\\t%.14f\\t\\t-------\"%(iter,limInf,limSup,raiz1,R1))\r\n",
        "    while (ErrorEst>CritError):\r\n",
        "        if (L1*R1<0):\r\n",
        "            #ACTUALIZAMOS NUESTRO CONTADOR\r\n",
        "            iter=iter+1\r\n",
        "            #NUESTRA RAIZ SE CONVIERTE EN EL LIMITE SUPERIOR\r\n",
        "            limSup=raiz1\r\n",
        "            #ACTUALIZAMOS NUESTRA RAIZ\r\n",
        "            raiz1=(limInf+limSup)/2\r\n",
        "            #EVALUAMOS EL NUEVO LIMITE SUPERIOR Y NUESTRA NUEVA RAIZ EN LA FUNCION\r\n",
        "            R1=funcion(raiz1)\r\n",
        "            L2=funcion(limSup)\r\n",
        "            #ACTUALIZAMOS NUESTRO ERROR ESTIMADO\r\n",
        "            ErrorEst=(raiz1-limSup)*100/raiz1\r\n",
        "            if (ErrorEst<0):\r\n",
        "                ErrorEst*=-1\r\n",
        "            #IMPRIMIREMOS NUESTROS RESULTADOS    \r\n",
        "            print(\"%d\\t%.14f\\t\\t%.14f\\t\\t%.14f\\t\\t%.14f\\t\\t%.10f\"%(iter,limInf,limSup,raiz1,R1,ErrorEst))\r\n",
        "            continue\r\n",
        "        if (L2*R1<0):\r\n",
        "            #ACTUALIZAMOS NUESTRO CONTADOR\r\n",
        "            iter =iter+1\r\n",
        "            #NUESTRA RAIZ SE CONVIERTE EN EL LIMITE INFERIOR\r\n",
        "            limInf=raiz1\r\n",
        "            #AHORA ACTUALIZAMOS NUESTRA RAIZ\r\n",
        "            raiz1=(limInf+limSup)/2\r\n",
        "            #EVALUAMOS NUESTRA NUEVA RAIZ Y LIMITE SUPERIOR EN LA FUNCION\r\n",
        "            L1=funcion(limInf)\r\n",
        "            R1=funcion(raiz1)\r\n",
        "            #ACTUALIZAMOS NUESTRO ERROR ESTIMADO\r\n",
        "            ErrorEst=(raiz1-limInf)*100/raiz1\r\n",
        "            if (ErrorEst<0):\r\n",
        "                ErrorEst*=-1\r\n",
        "            #IMPRIMIREMOS LOS RESULTADOS \r\n",
        "            print(\"%d\\t%.14f\\t\\t%.14f\\t\\t%.14f\\t\\t%.14f\\t\\t%.10f\"%(iter,limInf,limSup,raiz1,R1,ErrorEst))"
      ],
      "execution_count": 9,
      "outputs": [
        {
          "output_type": "stream",
          "text": [
            "limite inferior: 0\n",
            "limite superior: 2\n",
            "Ingrese el valor de n(aproximacion de la raiz en al menos n cifras significativas): 4\n",
            "1.0\n",
            "n\tLInferior\t\t\tLSuperior\t\t\tRaizAprox\t\t\tf(raizAprox)\t\t\tEa\n",
            "================================================================================================================================================================\n",
            "1\t0.00000000000000\t\t2.00000000000000\t\t1.00000000000000\t\t-1.00000000000000\t\t-------\n",
            "2\t1.00000000000000\t\t2.00000000000000\t\t1.50000000000000\t\t16.62500000000000\t\t33.3333333333\n",
            "3\t1.00000000000000\t\t1.50000000000000\t\t1.25000000000000\t\t5.50000000000000\t\t20.0000000000\n",
            "4\t1.00000000000000\t\t1.25000000000000\t\t1.12500000000000\t\t1.78027343750000\t\t11.1111111111\n",
            "5\t1.00000000000000\t\t1.12500000000000\t\t1.06250000000000\t\t0.28497314453125\t\t5.8823529412\n",
            "6\t1.00000000000000\t\t1.06250000000000\t\t1.03125000000000\t\t-0.38235092163086\t\t3.0303030303\n",
            "7\t1.03125000000000\t\t1.06250000000000\t\t1.04687500000000\t\t-0.05507636070251\t\t1.4925373134\n",
            "8\t1.04687500000000\t\t1.06250000000000\t\t1.05468750000000\t\t0.11332894861698\t\t0.7407407407\n",
            "9\t1.04687500000000\t\t1.05468750000000\t\t1.05078125000000\t\t0.02872426901013\t\t0.3717472119\n",
            "10\t1.04687500000000\t\t1.05078125000000\t\t1.04882812500000\t\t-0.01327619882068\t\t0.1862197393\n",
            "11\t1.04882812500000\t\t1.05078125000000\t\t1.04980468750000\t\t0.00769895274789\t\t0.0930232558\n",
            "12\t1.04882812500000\t\t1.04980468750000\t\t1.04931640625000\t\t-0.00279488810679\t\t0.0465332713\n",
            "13\t1.04931640625000\t\t1.04980468750000\t\t1.04956054687500\t\t0.00245046536362\t\t0.0232612235\n",
            "14\t1.04931640625000\t\t1.04956054687500\t\t1.04943847656250\t\t-0.00017260302464\t\t0.0116319646\n",
            "15\t1.04943847656250\t\t1.04956054687500\t\t1.04949951171875\t\t0.00113883324546\t\t0.0058156441\n",
            "16\t1.04943847656250\t\t1.04949951171875\t\t1.04946899414062\t\t0.00048309063075\t\t0.0029079066\n"
          ],
          "name": "stdout"
        }
      ]
    },
    {
      "cell_type": "markdown",
      "metadata": {
        "id": "mQoRruu6Wvij"
      },
      "source": [
        ""
      ]
    },
    {
      "cell_type": "markdown",
      "metadata": {
        "id": "iUpP0D-affa2"
      },
      "source": [
        "**FALSA POSICION**"
      ]
    },
    {
      "cell_type": "code",
      "metadata": {
        "colab": {
          "base_uri": "https://localhost:8080/"
        },
        "id": "x7Pdqc7wfZH3",
        "outputId": "d608807e-08a3-4539-af18-388a1fa9ee27"
      },
      "source": [
        "#DEFINIMOS FUNC\r\n",
        "def func(x):\r\n",
        "    return x**3+4*x**2-10\r\n",
        "    #return x**3+2*x**2-x\r\n",
        "    #return 4*x**4-x**3+3*x**2-7\r\n",
        "#INGRESAMOS NUESTRA FUNCION\r\n",
        "print(\"ingrese la funcion: \")\r\n",
        "#print(\"x*3+4*x*2-10\")\r\n",
        "#print(\"x*3+2*x*2-x\")\r\n",
        "#IMPRIMEREMOS NUESTRA FUNCION\r\n",
        "print(\"4*x*4-x*3+3*x*2-7\")    \r\n",
        "#INGRESAMOS EL LIMITE SUPERIOR, INFERIOR Y LAS CIFRAS SIGNIFICATIVAS \r\n",
        "limInf=float(input(\"Ingrese el limite inferior: \"))\r\n",
        "limSup=float(input(\"Ingrese el limite superior: \"))\r\n",
        "n=int(input(\"Ingrese n(aproximacion de la raiz en al menos n cifras significativas): \"))\r\n",
        "#CONTADOR DE ITERACIONES\r\n",
        "iters=1\r\n",
        "#CRITERIO DE ERROR\r\n",
        "critE=0.5*(10**(2-n))\r\n",
        "#RAIZ 1\r\n",
        "raiz1=limSup-(func(limSup)*(limInf-limSup))/(func(limInf)-func(limSup))\r\n",
        "#EVALUAMOS EL LIMITE INFERIOR, SUPERIOR Y LA RAIZ EN LA FUNCION\r\n",
        "L1=func(limInf)\r\n",
        "L2=func(limSup)\r\n",
        "R1=func(raiz1)\r\n",
        "#ERROR ESTIMADA \r\n",
        "Eest=1\r\n",
        "#EN CASO DE NO EXISTIR ALGUNA RAIZ EN EL INTERVALO INGRESADO\r\n",
        "if(L1*R1>0 and L2*R1>0):\r\n",
        "    print(\"NO EXISTE RAIZ EN EL INTERVALO\")\r\n",
        "#EN CASO DE SI EXITIR RAIZ\r\n",
        "else:\r\n",
        "    print(raiz1)\r\n",
        "    print(\"n\\tLInferior\\t\\t\\tLSuperior\\t\\t\\tRaizAprox\\t\\t\\tf(raizAprox)\\t\\t\\tEa\")\r\n",
        "    print(\"=\"*160)\r\n",
        "    #IMPRIMIREMOS NUESTROS DATOS INICIALES INGRESADOS\r\n",
        "    print(\"%d\\t%.14f\\t\\t%.14f\\t\\t%.14f\\t\\t%.14f\\t\\t-------\"%(iters,limInf,limSup,raiz1,R1))\r\n",
        "    while (Eest>critE):\r\n",
        "        if (L1*R1<0):\r\n",
        "            #ACTUALIZAMOS NUESTRO CONTADOR\r\n",
        "            iters=iters+1\r\n",
        "            #NUESTRA RAIZ ANTERIOR SE CONVIERTE EN NUESTRO LIMITE SUPERIOR\r\n",
        "            limSup=raiz1\r\n",
        "            #ACTUALIZAMOS LA RAIZ\r\n",
        "            raiz1=limSup-(func(limSup)*(limInf-limSup))/(func(limInf)-func(limSup))\r\n",
        "            #nuevos limitesup y raizn evaluados en la funcion\r\n",
        "            R1=func(raiz1)\r\n",
        "            L2=func(limSup)\r\n",
        "            #ACTUALIZAMOS NUESTRO ERROR ESTIMADO\r\n",
        "            Eest=(raiz1-limSup)*100/raiz1\r\n",
        "            if (Eest<0):\r\n",
        "                errorA=errorA*-1\r\n",
        "            #IMPRIMIREMOS NUESTROS RESULTADOS\r\n",
        "            print(\"%d\\t%.14f\\t\\t%.14f\\t\\t%.14f\\t\\t%.14f\\t\\t%.10f\"%(iters,limInf,limSup,raiz1,R1,Eest))\r\n",
        "            continue\r\n",
        "            \r\n",
        "        if (L2*R1<0):\r\n",
        "            #actualizar contador de iteraciones\r\n",
        "            iters=iters+1\r\n",
        "            #raizn se vuelve el limite inf\r\n",
        "            limInf=raiz1\r\n",
        "            #actualizamos el valor de raizn\r\n",
        "            raiz1=limSup-(func(limSup)*(limInf-limSup))/(func(limInf)-func(limSup))\r\n",
        "            #nuevos limitesup y raizn evaluados en la funcion\r\n",
        "            L1=func(limInf)\r\n",
        "            R1=func(raiz1)\r\n",
        "            #actualizamos error estimada del error\r\n",
        "            Eest=(raiz1-limInf)*100/raiz1\r\n",
        "            if (Eest<0):\r\n",
        "                Eest=Eest*-1\r\n",
        "            #mostramos resultados \r\n",
        "            print(\"%d\\t%.14f\\t\\t%.14f\\t\\t%.14f\\t\\t%.14f\\t\\t%.10f\"%(iters,limInf,limSup,raiz1,R1,Eest))"
      ],
      "execution_count": 15,
      "outputs": [
        {
          "output_type": "stream",
          "text": [
            "ingrese la funcion: \n",
            "4*x*4-x*3+3*x*2-7\n",
            "Ingrese el limite inferior: 1\n",
            "Ingrese el limite superior: 2\n",
            "Ingrese n(aproximacion de la raiz en al menos n cifras significativas): 4\n",
            "1.263157894736842\n",
            "n\tLInferior\t\t\tLSuperior\t\t\tRaizAprox\t\t\tf(raizAprox)\t\t\tEa\n",
            "================================================================================================================================================================\n",
            "1\t1.00000000000000\t\t2.00000000000000\t\t1.26315789473684\t\t-1.60227438402099\t\t-------\n",
            "2\t1.26315789473684\t\t2.00000000000000\t\t1.33882783882784\t\t-0.43036474800453\t\t5.6519547844\n",
            "3\t1.33882783882784\t\t2.00000000000000\t\t1.35854634182478\t\t-0.11000878847434\t\t1.4514413230\n",
            "4\t1.35854634182478\t\t2.00000000000000\t\t1.36354744004209\t\t-0.02776209100106\t\t0.3667711200\n",
            "5\t1.36354744004209\t\t2.00000000000000\t\t1.36480703182678\t\t-0.00698341540117\t\t0.0922908335\n",
            "6\t1.36480703182678\t\t2.00000000000000\t\t1.36512371788438\t\t-0.00175520903234\t\t0.0231983412\n",
            "7\t1.36512371788438\t\t2.00000000000000\t\t1.36520330366260\t\t-0.00044106301015\t\t0.0058295917\n",
            "8\t1.36520330366260\t\t2.00000000000000\t\t1.36522330198554\t\t-0.00011082813342\t\t0.0014648390\n"
          ],
          "name": "stdout"
        }
      ]
    },
    {
      "cell_type": "markdown",
      "metadata": {
        "id": "toAcrRHzi_as"
      },
      "source": [
        ""
      ]
    }
  ]
}